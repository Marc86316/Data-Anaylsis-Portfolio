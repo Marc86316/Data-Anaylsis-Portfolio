{
  "nbformat": 4,
  "nbformat_minor": 0,
  "metadata": {
    "colab": {
      "provenance": [],
      "collapsed_sections": [
        "QBfSzcj4XFUK",
        "wrgd72sMD8Nj",
        "A73a9Ub6D15-",
        "0hKg7CZAG6pG",
        "9wdToEBIS3Mc",
        "NsLRUWLcXMAS",
        "VBI8phDYqHKR",
        "H336SGwcovRG",
        "G08s0MsHo3Ct",
        "cbllju6FdfvB",
        "Ua4j2AnnsEVd",
        "pAj5_jf_z1SJ",
        "91mX8_yNcdQf",
        "5iY_I7aEst86",
        "UK0zyB3KwFWG"
      ],
      "authorship_tag": "ABX9TyNLg5HRnNRprOmCnWknY0gD",
      "include_colab_link": true
    },
    "kernelspec": {
      "name": "python3",
      "display_name": "Python 3"
    },
    "language_info": {
      "name": "python"
    }
  },
  "cells": [
    {
      "cell_type": "markdown",
      "metadata": {
        "id": "view-in-github",
        "colab_type": "text"
      },
      "source": [
        "<a href=\"https://colab.research.google.com/github/Marc86316/DataCamp/blob/main/Intro_to_Statistic_in_Python/More_Distributions_and_the_Central_Limit_Theorem.ipynb\" target=\"_parent\"><img src=\"https://colab.research.google.com/assets/colab-badge.svg\" alt=\"Open In Colab\"/></a>"
      ]
    },
    {
      "cell_type": "markdown",
      "source": [
        "#  More Distributions and the Central Limit Theorem"
      ],
      "metadata": {
        "id": "tPAlqEBf-awh"
      }
    },
    {
      "cell_type": "markdown",
      "source": [
        "It’s time to explore one of the most important probability distributions in statistics, **normal distribution**. You’ll create histograms to plot normal distributions and gain an understanding of the central limit theorem, before expanding your knowledge of statistical functions by adding the **Poisson**, **exponential**, and **t-distributions** to your repertoire."
      ],
      "metadata": {
        "id": "obVMuf6D90Dr"
      }
    },
    {
      "cell_type": "markdown",
      "source": [
        "**Big Question**\n",
        "\n",
        "**WHAT is normal distrubtion?**\n",
        "\n",
        "**WHAT are the cases can call normal distribution?**\n",
        "\n",
        "**WHY we nedd noraml distribution?**\n",
        "\n",
        "**WHERE could we apply normal distribution?**"
      ],
      "metadata": {
        "id": "Qey-UMsP9sUm"
      }
    },
    {
      "cell_type": "markdown",
      "source": [
        "## Import"
      ],
      "metadata": {
        "id": "QBfSzcj4XFUK"
      }
    },
    {
      "cell_type": "code",
      "source": [
        "# Importing numpy, pandas and matplotlib.pyplot\n",
        "import numpy as np\n",
        "import pandas as pd\n",
        "import matplotlib.pyplot as plt\n",
        "\n",
        "#\n",
        "from scipy.stats import norm\n",
        "\n",
        "# Importing the course datasets from github\n",
        "# paste Raw URL from github\n",
        "deals_url = \"https://raw.githubusercontent.com/Marc86316/DataCamp/refs/heads/main/dataset/amir_deals.csv\"\n",
        "\n",
        "amir_deals = pd.read_csv(deals_url)\n",
        "\n",
        "amir_deals"
      ],
      "metadata": {
        "colab": {
          "base_uri": "https://localhost:8080/",
          "height": 424
        },
        "id": "aMghV6imF4-t",
        "outputId": "ad0f9b15-6b28-4738-800f-f01c8e4c432f"
      },
      "execution_count": 23,
      "outputs": [
        {
          "output_type": "execute_result",
          "data": {
            "text/plain": [
              "     Unnamed: 0    product   client status   amount  num_users\n",
              "0             1  Product F  Current    Won  7389.52         19\n",
              "1             2  Product C      New    Won  4493.01         43\n",
              "2             3  Product B      New    Won  5738.09         87\n",
              "3             4  Product I  Current    Won  2591.24         83\n",
              "4             5  Product E  Current    Won  6622.97         17\n",
              "..          ...        ...      ...    ...      ...        ...\n",
              "173         174  Product A  Current   Lost  5835.32         23\n",
              "174         175  Product D  Current    Won  6377.50         12\n",
              "175         176  Product D  Current    Won  3537.61         28\n",
              "176         177  Product A  Current    Won  6448.07         34\n",
              "177         178  Product D      New   Lost  7320.05         72\n",
              "\n",
              "[178 rows x 6 columns]"
            ],
            "text/html": [
              "\n",
              "  <div id=\"df-4a6f21cc-73bb-4efa-aa62-543de8c51f9f\" class=\"colab-df-container\">\n",
              "    <div>\n",
              "<style scoped>\n",
              "    .dataframe tbody tr th:only-of-type {\n",
              "        vertical-align: middle;\n",
              "    }\n",
              "\n",
              "    .dataframe tbody tr th {\n",
              "        vertical-align: top;\n",
              "    }\n",
              "\n",
              "    .dataframe thead th {\n",
              "        text-align: right;\n",
              "    }\n",
              "</style>\n",
              "<table border=\"1\" class=\"dataframe\">\n",
              "  <thead>\n",
              "    <tr style=\"text-align: right;\">\n",
              "      <th></th>\n",
              "      <th>Unnamed: 0</th>\n",
              "      <th>product</th>\n",
              "      <th>client</th>\n",
              "      <th>status</th>\n",
              "      <th>amount</th>\n",
              "      <th>num_users</th>\n",
              "    </tr>\n",
              "  </thead>\n",
              "  <tbody>\n",
              "    <tr>\n",
              "      <th>0</th>\n",
              "      <td>1</td>\n",
              "      <td>Product F</td>\n",
              "      <td>Current</td>\n",
              "      <td>Won</td>\n",
              "      <td>7389.52</td>\n",
              "      <td>19</td>\n",
              "    </tr>\n",
              "    <tr>\n",
              "      <th>1</th>\n",
              "      <td>2</td>\n",
              "      <td>Product C</td>\n",
              "      <td>New</td>\n",
              "      <td>Won</td>\n",
              "      <td>4493.01</td>\n",
              "      <td>43</td>\n",
              "    </tr>\n",
              "    <tr>\n",
              "      <th>2</th>\n",
              "      <td>3</td>\n",
              "      <td>Product B</td>\n",
              "      <td>New</td>\n",
              "      <td>Won</td>\n",
              "      <td>5738.09</td>\n",
              "      <td>87</td>\n",
              "    </tr>\n",
              "    <tr>\n",
              "      <th>3</th>\n",
              "      <td>4</td>\n",
              "      <td>Product I</td>\n",
              "      <td>Current</td>\n",
              "      <td>Won</td>\n",
              "      <td>2591.24</td>\n",
              "      <td>83</td>\n",
              "    </tr>\n",
              "    <tr>\n",
              "      <th>4</th>\n",
              "      <td>5</td>\n",
              "      <td>Product E</td>\n",
              "      <td>Current</td>\n",
              "      <td>Won</td>\n",
              "      <td>6622.97</td>\n",
              "      <td>17</td>\n",
              "    </tr>\n",
              "    <tr>\n",
              "      <th>...</th>\n",
              "      <td>...</td>\n",
              "      <td>...</td>\n",
              "      <td>...</td>\n",
              "      <td>...</td>\n",
              "      <td>...</td>\n",
              "      <td>...</td>\n",
              "    </tr>\n",
              "    <tr>\n",
              "      <th>173</th>\n",
              "      <td>174</td>\n",
              "      <td>Product A</td>\n",
              "      <td>Current</td>\n",
              "      <td>Lost</td>\n",
              "      <td>5835.32</td>\n",
              "      <td>23</td>\n",
              "    </tr>\n",
              "    <tr>\n",
              "      <th>174</th>\n",
              "      <td>175</td>\n",
              "      <td>Product D</td>\n",
              "      <td>Current</td>\n",
              "      <td>Won</td>\n",
              "      <td>6377.50</td>\n",
              "      <td>12</td>\n",
              "    </tr>\n",
              "    <tr>\n",
              "      <th>175</th>\n",
              "      <td>176</td>\n",
              "      <td>Product D</td>\n",
              "      <td>Current</td>\n",
              "      <td>Won</td>\n",
              "      <td>3537.61</td>\n",
              "      <td>28</td>\n",
              "    </tr>\n",
              "    <tr>\n",
              "      <th>176</th>\n",
              "      <td>177</td>\n",
              "      <td>Product A</td>\n",
              "      <td>Current</td>\n",
              "      <td>Won</td>\n",
              "      <td>6448.07</td>\n",
              "      <td>34</td>\n",
              "    </tr>\n",
              "    <tr>\n",
              "      <th>177</th>\n",
              "      <td>178</td>\n",
              "      <td>Product D</td>\n",
              "      <td>New</td>\n",
              "      <td>Lost</td>\n",
              "      <td>7320.05</td>\n",
              "      <td>72</td>\n",
              "    </tr>\n",
              "  </tbody>\n",
              "</table>\n",
              "<p>178 rows × 6 columns</p>\n",
              "</div>\n",
              "    <div class=\"colab-df-buttons\">\n",
              "\n",
              "  <div class=\"colab-df-container\">\n",
              "    <button class=\"colab-df-convert\" onclick=\"convertToInteractive('df-4a6f21cc-73bb-4efa-aa62-543de8c51f9f')\"\n",
              "            title=\"Convert this dataframe to an interactive table.\"\n",
              "            style=\"display:none;\">\n",
              "\n",
              "  <svg xmlns=\"http://www.w3.org/2000/svg\" height=\"24px\" viewBox=\"0 -960 960 960\">\n",
              "    <path d=\"M120-120v-720h720v720H120Zm60-500h600v-160H180v160Zm220 220h160v-160H400v160Zm0 220h160v-160H400v160ZM180-400h160v-160H180v160Zm440 0h160v-160H620v160ZM180-180h160v-160H180v160Zm440 0h160v-160H620v160Z\"/>\n",
              "  </svg>\n",
              "    </button>\n",
              "\n",
              "  <style>\n",
              "    .colab-df-container {\n",
              "      display:flex;\n",
              "      gap: 12px;\n",
              "    }\n",
              "\n",
              "    .colab-df-convert {\n",
              "      background-color: #E8F0FE;\n",
              "      border: none;\n",
              "      border-radius: 50%;\n",
              "      cursor: pointer;\n",
              "      display: none;\n",
              "      fill: #1967D2;\n",
              "      height: 32px;\n",
              "      padding: 0 0 0 0;\n",
              "      width: 32px;\n",
              "    }\n",
              "\n",
              "    .colab-df-convert:hover {\n",
              "      background-color: #E2EBFA;\n",
              "      box-shadow: 0px 1px 2px rgba(60, 64, 67, 0.3), 0px 1px 3px 1px rgba(60, 64, 67, 0.15);\n",
              "      fill: #174EA6;\n",
              "    }\n",
              "\n",
              "    .colab-df-buttons div {\n",
              "      margin-bottom: 4px;\n",
              "    }\n",
              "\n",
              "    [theme=dark] .colab-df-convert {\n",
              "      background-color: #3B4455;\n",
              "      fill: #D2E3FC;\n",
              "    }\n",
              "\n",
              "    [theme=dark] .colab-df-convert:hover {\n",
              "      background-color: #434B5C;\n",
              "      box-shadow: 0px 1px 3px 1px rgba(0, 0, 0, 0.15);\n",
              "      filter: drop-shadow(0px 1px 2px rgba(0, 0, 0, 0.3));\n",
              "      fill: #FFFFFF;\n",
              "    }\n",
              "  </style>\n",
              "\n",
              "    <script>\n",
              "      const buttonEl =\n",
              "        document.querySelector('#df-4a6f21cc-73bb-4efa-aa62-543de8c51f9f button.colab-df-convert');\n",
              "      buttonEl.style.display =\n",
              "        google.colab.kernel.accessAllowed ? 'block' : 'none';\n",
              "\n",
              "      async function convertToInteractive(key) {\n",
              "        const element = document.querySelector('#df-4a6f21cc-73bb-4efa-aa62-543de8c51f9f');\n",
              "        const dataTable =\n",
              "          await google.colab.kernel.invokeFunction('convertToInteractive',\n",
              "                                                    [key], {});\n",
              "        if (!dataTable) return;\n",
              "\n",
              "        const docLinkHtml = 'Like what you see? Visit the ' +\n",
              "          '<a target=\"_blank\" href=https://colab.research.google.com/notebooks/data_table.ipynb>data table notebook</a>'\n",
              "          + ' to learn more about interactive tables.';\n",
              "        element.innerHTML = '';\n",
              "        dataTable['output_type'] = 'display_data';\n",
              "        await google.colab.output.renderOutput(dataTable, element);\n",
              "        const docLink = document.createElement('div');\n",
              "        docLink.innerHTML = docLinkHtml;\n",
              "        element.appendChild(docLink);\n",
              "      }\n",
              "    </script>\n",
              "  </div>\n",
              "\n",
              "\n",
              "<div id=\"df-1afc8aaf-7f77-4af3-99e5-d8882a2c7922\">\n",
              "  <button class=\"colab-df-quickchart\" onclick=\"quickchart('df-1afc8aaf-7f77-4af3-99e5-d8882a2c7922')\"\n",
              "            title=\"Suggest charts\"\n",
              "            style=\"display:none;\">\n",
              "\n",
              "<svg xmlns=\"http://www.w3.org/2000/svg\" height=\"24px\"viewBox=\"0 0 24 24\"\n",
              "     width=\"24px\">\n",
              "    <g>\n",
              "        <path d=\"M19 3H5c-1.1 0-2 .9-2 2v14c0 1.1.9 2 2 2h14c1.1 0 2-.9 2-2V5c0-1.1-.9-2-2-2zM9 17H7v-7h2v7zm4 0h-2V7h2v10zm4 0h-2v-4h2v4z\"/>\n",
              "    </g>\n",
              "</svg>\n",
              "  </button>\n",
              "\n",
              "<style>\n",
              "  .colab-df-quickchart {\n",
              "      --bg-color: #E8F0FE;\n",
              "      --fill-color: #1967D2;\n",
              "      --hover-bg-color: #E2EBFA;\n",
              "      --hover-fill-color: #174EA6;\n",
              "      --disabled-fill-color: #AAA;\n",
              "      --disabled-bg-color: #DDD;\n",
              "  }\n",
              "\n",
              "  [theme=dark] .colab-df-quickchart {\n",
              "      --bg-color: #3B4455;\n",
              "      --fill-color: #D2E3FC;\n",
              "      --hover-bg-color: #434B5C;\n",
              "      --hover-fill-color: #FFFFFF;\n",
              "      --disabled-bg-color: #3B4455;\n",
              "      --disabled-fill-color: #666;\n",
              "  }\n",
              "\n",
              "  .colab-df-quickchart {\n",
              "    background-color: var(--bg-color);\n",
              "    border: none;\n",
              "    border-radius: 50%;\n",
              "    cursor: pointer;\n",
              "    display: none;\n",
              "    fill: var(--fill-color);\n",
              "    height: 32px;\n",
              "    padding: 0;\n",
              "    width: 32px;\n",
              "  }\n",
              "\n",
              "  .colab-df-quickchart:hover {\n",
              "    background-color: var(--hover-bg-color);\n",
              "    box-shadow: 0 1px 2px rgba(60, 64, 67, 0.3), 0 1px 3px 1px rgba(60, 64, 67, 0.15);\n",
              "    fill: var(--button-hover-fill-color);\n",
              "  }\n",
              "\n",
              "  .colab-df-quickchart-complete:disabled,\n",
              "  .colab-df-quickchart-complete:disabled:hover {\n",
              "    background-color: var(--disabled-bg-color);\n",
              "    fill: var(--disabled-fill-color);\n",
              "    box-shadow: none;\n",
              "  }\n",
              "\n",
              "  .colab-df-spinner {\n",
              "    border: 2px solid var(--fill-color);\n",
              "    border-color: transparent;\n",
              "    border-bottom-color: var(--fill-color);\n",
              "    animation:\n",
              "      spin 1s steps(1) infinite;\n",
              "  }\n",
              "\n",
              "  @keyframes spin {\n",
              "    0% {\n",
              "      border-color: transparent;\n",
              "      border-bottom-color: var(--fill-color);\n",
              "      border-left-color: var(--fill-color);\n",
              "    }\n",
              "    20% {\n",
              "      border-color: transparent;\n",
              "      border-left-color: var(--fill-color);\n",
              "      border-top-color: var(--fill-color);\n",
              "    }\n",
              "    30% {\n",
              "      border-color: transparent;\n",
              "      border-left-color: var(--fill-color);\n",
              "      border-top-color: var(--fill-color);\n",
              "      border-right-color: var(--fill-color);\n",
              "    }\n",
              "    40% {\n",
              "      border-color: transparent;\n",
              "      border-right-color: var(--fill-color);\n",
              "      border-top-color: var(--fill-color);\n",
              "    }\n",
              "    60% {\n",
              "      border-color: transparent;\n",
              "      border-right-color: var(--fill-color);\n",
              "    }\n",
              "    80% {\n",
              "      border-color: transparent;\n",
              "      border-right-color: var(--fill-color);\n",
              "      border-bottom-color: var(--fill-color);\n",
              "    }\n",
              "    90% {\n",
              "      border-color: transparent;\n",
              "      border-bottom-color: var(--fill-color);\n",
              "    }\n",
              "  }\n",
              "</style>\n",
              "\n",
              "  <script>\n",
              "    async function quickchart(key) {\n",
              "      const quickchartButtonEl =\n",
              "        document.querySelector('#' + key + ' button');\n",
              "      quickchartButtonEl.disabled = true;  // To prevent multiple clicks.\n",
              "      quickchartButtonEl.classList.add('colab-df-spinner');\n",
              "      try {\n",
              "        const charts = await google.colab.kernel.invokeFunction(\n",
              "            'suggestCharts', [key], {});\n",
              "      } catch (error) {\n",
              "        console.error('Error during call to suggestCharts:', error);\n",
              "      }\n",
              "      quickchartButtonEl.classList.remove('colab-df-spinner');\n",
              "      quickchartButtonEl.classList.add('colab-df-quickchart-complete');\n",
              "    }\n",
              "    (() => {\n",
              "      let quickchartButtonEl =\n",
              "        document.querySelector('#df-1afc8aaf-7f77-4af3-99e5-d8882a2c7922 button');\n",
              "      quickchartButtonEl.style.display =\n",
              "        google.colab.kernel.accessAllowed ? 'block' : 'none';\n",
              "    })();\n",
              "  </script>\n",
              "</div>\n",
              "\n",
              "  <div id=\"id_5d0f258d-697f-4718-801c-c344b95b54cf\">\n",
              "    <style>\n",
              "      .colab-df-generate {\n",
              "        background-color: #E8F0FE;\n",
              "        border: none;\n",
              "        border-radius: 50%;\n",
              "        cursor: pointer;\n",
              "        display: none;\n",
              "        fill: #1967D2;\n",
              "        height: 32px;\n",
              "        padding: 0 0 0 0;\n",
              "        width: 32px;\n",
              "      }\n",
              "\n",
              "      .colab-df-generate:hover {\n",
              "        background-color: #E2EBFA;\n",
              "        box-shadow: 0px 1px 2px rgba(60, 64, 67, 0.3), 0px 1px 3px 1px rgba(60, 64, 67, 0.15);\n",
              "        fill: #174EA6;\n",
              "      }\n",
              "\n",
              "      [theme=dark] .colab-df-generate {\n",
              "        background-color: #3B4455;\n",
              "        fill: #D2E3FC;\n",
              "      }\n",
              "\n",
              "      [theme=dark] .colab-df-generate:hover {\n",
              "        background-color: #434B5C;\n",
              "        box-shadow: 0px 1px 3px 1px rgba(0, 0, 0, 0.15);\n",
              "        filter: drop-shadow(0px 1px 2px rgba(0, 0, 0, 0.3));\n",
              "        fill: #FFFFFF;\n",
              "      }\n",
              "    </style>\n",
              "    <button class=\"colab-df-generate\" onclick=\"generateWithVariable('amir_deals')\"\n",
              "            title=\"Generate code using this dataframe.\"\n",
              "            style=\"display:none;\">\n",
              "\n",
              "  <svg xmlns=\"http://www.w3.org/2000/svg\" height=\"24px\"viewBox=\"0 0 24 24\"\n",
              "       width=\"24px\">\n",
              "    <path d=\"M7,19H8.4L18.45,9,17,7.55,7,17.6ZM5,21V16.75L18.45,3.32a2,2,0,0,1,2.83,0l1.4,1.43a1.91,1.91,0,0,1,.58,1.4,1.91,1.91,0,0,1-.58,1.4L9.25,21ZM18.45,9,17,7.55Zm-12,3A5.31,5.31,0,0,0,4.9,8.1,5.31,5.31,0,0,0,1,6.5,5.31,5.31,0,0,0,4.9,4.9,5.31,5.31,0,0,0,6.5,1,5.31,5.31,0,0,0,8.1,4.9,5.31,5.31,0,0,0,12,6.5,5.46,5.46,0,0,0,6.5,12Z\"/>\n",
              "  </svg>\n",
              "    </button>\n",
              "    <script>\n",
              "      (() => {\n",
              "      const buttonEl =\n",
              "        document.querySelector('#id_5d0f258d-697f-4718-801c-c344b95b54cf button.colab-df-generate');\n",
              "      buttonEl.style.display =\n",
              "        google.colab.kernel.accessAllowed ? 'block' : 'none';\n",
              "\n",
              "      buttonEl.onclick = () => {\n",
              "        google.colab.notebook.generateWithVariable('amir_deals');\n",
              "      }\n",
              "      })();\n",
              "    </script>\n",
              "  </div>\n",
              "\n",
              "    </div>\n",
              "  </div>\n"
            ],
            "application/vnd.google.colaboratory.intrinsic+json": {
              "type": "dataframe",
              "variable_name": "amir_deals",
              "summary": "{\n  \"name\": \"amir_deals\",\n  \"rows\": 178,\n  \"fields\": [\n    {\n      \"column\": \"Unnamed: 0\",\n      \"properties\": {\n        \"dtype\": \"number\",\n        \"std\": 51,\n        \"min\": 1,\n        \"max\": 178,\n        \"num_unique_values\": 178,\n        \"samples\": [\n          20,\n          46,\n          141\n        ],\n        \"semantic_type\": \"\",\n        \"description\": \"\"\n      }\n    },\n    {\n      \"column\": \"product\",\n      \"properties\": {\n        \"dtype\": \"category\",\n        \"num_unique_values\": 11,\n        \"samples\": [\n          \"Product N\",\n          \"Product F\",\n          \"Product J\"\n        ],\n        \"semantic_type\": \"\",\n        \"description\": \"\"\n      }\n    },\n    {\n      \"column\": \"client\",\n      \"properties\": {\n        \"dtype\": \"category\",\n        \"num_unique_values\": 2,\n        \"samples\": [\n          \"New\",\n          \"Current\"\n        ],\n        \"semantic_type\": \"\",\n        \"description\": \"\"\n      }\n    },\n    {\n      \"column\": \"status\",\n      \"properties\": {\n        \"dtype\": \"category\",\n        \"num_unique_values\": 2,\n        \"samples\": [\n          \"Lost\",\n          \"Won\"\n        ],\n        \"semantic_type\": \"\",\n        \"description\": \"\"\n      }\n    },\n    {\n      \"column\": \"amount\",\n      \"properties\": {\n        \"dtype\": \"number\",\n        \"std\": 2058.17322535556,\n        \"min\": -539.23,\n        \"max\": 9913.27,\n        \"num_unique_values\": 178,\n        \"samples\": [\n          3220.45,\n          8614.12\n        ],\n        \"semantic_type\": \"\",\n        \"description\": \"\"\n      }\n    },\n    {\n      \"column\": \"num_users\",\n      \"properties\": {\n        \"dtype\": \"number\",\n        \"std\": 27,\n        \"min\": 1,\n        \"max\": 99,\n        \"num_unique_values\": 79,\n        \"samples\": [\n          32,\n          19\n        ],\n        \"semantic_type\": \"\",\n        \"description\": \"\"\n      }\n    }\n  ]\n}"
            }
          },
          "metadata": {},
          "execution_count": 23
        }
      ]
    },
    {
      "cell_type": "markdown",
      "source": [
        "## **The Noraml Distribution**\n"
      ],
      "metadata": {
        "id": "wrgd72sMD8Nj"
      }
    },
    {
      "cell_type": "markdown",
      "source": [
        "### Exercise - **Distribution of Amir's sales**\n",
        "\n",
        "Since each deal Amir worked on (both won and lost) was different, each was worth a different amount of money. These values are stored in the amount column of `amir_deals` As part of Amir's performance review, you want to be able to estimate the probability of him selling different amounts, but before you can do this, you'll need to determine what kind of distribution the amount variable follows.\n",
        "\n",
        "Both `pandas` as `pd` and `matplotlib.pyplot` as `plt` are loaded and `amir_deals` is available."
      ],
      "metadata": {
        "id": "A73a9Ub6D15-"
      }
    },
    {
      "cell_type": "markdown",
      "source": [
        "**Instructions**\n",
        "\n",
        "* Create a histogram with 10 bins to visualize the distribution of the amount. Show the plot.\n",
        "\n",
        "* Question:\n",
        "Which probability distribution do the sales amounts most closely follow?\n",
        "\n",
        "Answer: Normal distribution"
      ],
      "metadata": {
        "id": "1DA1YlN5FR16"
      }
    },
    {
      "cell_type": "code",
      "source": [
        "# Histogram of amount with 10 bins and show plot\n",
        "amir_deals.hist(column= 'amount', bins=10)\n",
        "plt.show()"
      ],
      "metadata": {
        "colab": {
          "base_uri": "https://localhost:8080/",
          "height": 0
        },
        "id": "L5yyKmRK_qXY",
        "outputId": "cc0a039e-27dd-4c1e-b7a9-6f96e1e28cdf"
      },
      "execution_count": 3,
      "outputs": [
        {
          "output_type": "display_data",
          "data": {
            "text/plain": [
              "<Figure size 640x480 with 1 Axes>"
            ],
            "image/png": "[encoded data removed]"
          },
          "metadata": {}
        }
      ]
    },
    {
      "cell_type": "code",
      "source": [
        "# amir_deals['amount'].hist(bins= 10) not the best approach"
      ],
      "metadata": {
        "id": "WKTbiCL2Gebt"
      },
      "execution_count": 4,
      "outputs": []
    },
    {
      "cell_type": "code",
      "source": [
        "# amir_deals.hist('amount',bins= 10) not the best approcah"
      ],
      "metadata": {
        "id": "HjzrzeYgGfzb"
      },
      "execution_count": 5,
      "outputs": []
    },
    {
      "cell_type": "markdown",
      "source": [
        "### Exercise - **Probabilities from the normal distribution**\n",
        "\n",
        "Since each deal Amir worked on (both won and lost) was different, each was worth a different amount of money. These values are stored in the `amount` column of `amir_deals` and follow a normal distribution with a mean of 5000 dollars and a standard deviation of 2000 dollars. As part of his performance metrics, you want to calculate the probability of Amir closing a deal worth various amounts.\n",
        "\n",
        "`norm` from `scipy.stats` is imported as well as `pandas` as `pd`. The DataFrame `amir_deals` is loaded."
      ],
      "metadata": {
        "id": "0hKg7CZAG6pG"
      }
    },
    {
      "cell_type": "markdown",
      "source": [
        "**Instructions**\n",
        "\n",
        "* What's the probability of Amir closing a deal worth less than 7500?\n",
        "\n",
        "* What's the probability of Amir closing a deal worth more than 1000?\n",
        "\n",
        "* What's the probability of Amir closing a deal worth between 3000 and 7000?\n",
        "\n",
        "* What amount will 25% of Amir's sales be less than?"
      ],
      "metadata": {
        "id": "3P2XVRJ-HlPt"
      }
    },
    {
      "cell_type": "code",
      "source": [
        "# Probability of deal < 7500\n",
        "prob_less_7500 = norm.cdf(7500,5000,2000)\n",
        "\n",
        "print(prob_less_7500)"
      ],
      "metadata": {
        "colab": {
          "base_uri": "https://localhost:8080/"
        },
        "id": "4HKeZVuiGpxL",
        "outputId": "f71897c9-2972-4f10-fcdf-d10e9754617e"
      },
      "execution_count": 6,
      "outputs": [
        {
          "output_type": "stream",
          "name": "stdout",
          "text": [
            "0.8943502263331446\n"
          ]
        }
      ]
    },
    {
      "cell_type": "code",
      "source": [
        "# Probability of deal > 1000\n",
        "prob_over_1000 = 1 - norm.cdf(1000,5000,2000)\n",
        "\n",
        "print(prob_over_1000)"
      ],
      "metadata": {
        "colab": {
          "base_uri": "https://localhost:8080/"
        },
        "id": "hLz0M5j8IT15",
        "outputId": "459f73b3-415d-4e9e-bcf6-2ebf02291c5d"
      },
      "execution_count": 7,
      "outputs": [
        {
          "output_type": "stream",
          "name": "stdout",
          "text": [
            "0.9772498680518208\n"
          ]
        }
      ]
    },
    {
      "cell_type": "code",
      "source": [
        "# Probability of deal between 3000 and 7000\n",
        "prob_3000_to_7000 = norm.cdf(7000,5000,2000) - norm.cdf(3000,5000,2000)\n",
        "\n",
        "print(prob_3000_to_7000)"
      ],
      "metadata": {
        "colab": {
          "base_uri": "https://localhost:8080/"
        },
        "id": "4ZT2t2G1IWAM",
        "outputId": "575575fa-e16e-41e0-f384-b3dd765ec02b"
      },
      "execution_count": 8,
      "outputs": [
        {
          "output_type": "stream",
          "name": "stdout",
          "text": [
            "0.6826894921370859\n"
          ]
        }
      ]
    },
    {
      "cell_type": "code",
      "source": [
        "# Calculate amount that 25% of deals will be less than\n",
        "pct_25 = norm.ppf(0.25,5000,2000)\n",
        "\n",
        "print(pct_25)"
      ],
      "metadata": {
        "colab": {
          "base_uri": "https://localhost:8080/"
        },
        "id": "5BLkzzVLIy0z",
        "outputId": "10be1cfc-94f2-4c94-d607-7d9f37c1c4d6"
      },
      "execution_count": 9,
      "outputs": [
        {
          "output_type": "stream",
          "name": "stdout",
          "text": [
            "3651.0204996078364\n"
          ]
        }
      ]
    },
    {
      "cell_type": "markdown",
      "source": [
        "Nifty normal distribution usage! You know that you can count on **Amir 75% (1-0.25) of the time to make a sale worth at least $3651.02**. This information could be useful in making company-wide sales projections."
      ],
      "metadata": {
        "id": "1iDoH932IzeN"
      }
    },
    {
      "cell_type": "markdown",
      "source": [
        "### Exercise - **Simulating sales under new market conditions**\n",
        "\n",
        "The company's financial analyst is predicting that next quarter, the worth of each sale will increase by 20% and the volatility, or standard deviation, of each sale's worth will increase by 30%. To see what Amir's sales might look like next quarter under these new market conditions, you'll simulate new sales amounts using the normal distribution and store these in the `new_sales` DataFrame, which has already been created for you.\n",
        "\n",
        "In addition, `norm` from `scipy.stats`, `pandas` as `pd`, and `matplotlib.pyplot` as `plt` are loaded."
      ],
      "metadata": {
        "id": "9wdToEBIS3Mc"
      }
    },
    {
      "cell_type": "markdown",
      "source": [
        "**Instructions**\n",
        "\n",
        "* Currently, Amir's average sale amount is 5000. Calculate what his new average amount will be if it increases by 20% and store this in `new_mean`.\n",
        "* Amir's current standard deviation is 2000. Calculate what his new standard deviation will be if it increases by 30% and store this in  `new_sd`.\n",
        "* Create a variable called new_sales, which contains 36 simulated amounts from a normal distribution with a mean of  `new_mean` and a standard deviation of  `new_sd`.\n",
        "* Plot the distribution of the `new_sales` amounts using a histogram and show the plot."
      ],
      "metadata": {
        "id": "0fyjM4-YTMVu"
      }
    },
    {
      "cell_type": "code",
      "source": [
        "# Calculate new average amount\n",
        "new_mean = 5000 * (1+0.2)\n",
        "\n",
        "# Calculate new standard deviation\n",
        "new_sd = 2000 * (1+0.3)\n",
        "\n",
        "# Simulate 36 new sales\n",
        "new_sales = norm.rvs(new_mean,new_sd,size=36)\n",
        "\n",
        "# Create histogram and show\n",
        "plt.hist(new_sales)\n",
        "plt.show()"
      ],
      "metadata": {
        "colab": {
          "base_uri": "https://localhost:8080/",
          "height": 0
        },
        "id": "m9keJ44SI4L1",
        "outputId": "826a258a-503c-482f-80cf-832708b4465f"
      },
      "execution_count": 10,
      "outputs": [
        {
          "output_type": "display_data",
          "data": {
            "text/plain": [
              "<Figure size 640x480 with 1 Axes>"
            ],
            "image/png": "[encoded data removed]"
          },
          "metadata": {}
        }
      ]
    },
    {
      "cell_type": "markdown",
      "source": [
        "### Exercise - **Which market is better?**\n",
        "\n",
        "The key metric that the company uses to evaluate salespeople is the percent of sales they make over $1000 since the time put into each sale is usually worth a bit more than that, so the higher this metric, the better the salesperson is performing.\n",
        "\n",
        "Recall that Amir's current sales amounts have a mean of 5000 and a standard deviation of 2000, and Amir's predicted amounts in next quarter's market have a mean of 6000 and a standard deviation of 2600.\n",
        "\n",
        "`norm` from `scipy.stats` is imported.\n",
        "\n",
        "Based only on the metric of percent of sales over $1000, does Amir perform better in the current market or the predicted market?"
      ],
      "metadata": {
        "id": "dJ2uppfDUpNw"
      }
    },
    {
      "cell_type": "code",
      "source": [
        "#  Amir's current sales\n",
        "1 - norm.cdf(1000,5000,2000)"
      ],
      "metadata": {
        "colab": {
          "base_uri": "https://localhost:8080/"
        },
        "id": "F7K_iBCOV6av",
        "outputId": "7092e93a-042d-4567-b891-58ad34a4b429"
      },
      "execution_count": 11,
      "outputs": [
        {
          "output_type": "execute_result",
          "data": {
            "text/plain": [
              "0.9772498680518208"
            ]
          },
          "metadata": {},
          "execution_count": 11
        }
      ]
    },
    {
      "cell_type": "code",
      "source": [
        "# next quarter's sales\n",
        "1 - norm.cdf(1000,6000,2600)"
      ],
      "metadata": {
        "colab": {
          "base_uri": "https://localhost:8080/"
        },
        "id": "hVaEo5C6UMyq",
        "outputId": "2825a520-b54a-437c-f870-d4966fe6b1f5"
      },
      "execution_count": 12,
      "outputs": [
        {
          "output_type": "execute_result",
          "data": {
            "text/plain": [
              "0.9727648049862613"
            ]
          },
          "metadata": {},
          "execution_count": 12
        }
      ]
    },
    {
      "cell_type": "markdown",
      "source": [
        "Great work! In the current market, Amir makes sales over $1000 about 97.7% of the time, and about 97.3% of the time in the predicted market, so there's not much of a difference. However, his average sale amount is higher in the predicted market, so your company may want to consider other metrics as well."
      ],
      "metadata": {
        "id": "B4SKrrUPV3WI"
      }
    },
    {
      "cell_type": "markdown",
      "source": [
        "## **The Central Limit Theorem**"
      ],
      "metadata": {
        "id": "NsLRUWLcXMAS"
      }
    },
    {
      "cell_type": "markdown",
      "source": [
        "### Dash App Demo"
      ],
      "metadata": {
        "id": "VBI8phDYqHKR"
      }
    },
    {
      "cell_type": "markdown",
      "source": [
        "**Install Dependencies**"
      ],
      "metadata": {
        "id": "1Gdrm9NGoVIv"
      }
    },
    {
      "cell_type": "code",
      "source": [
        "!pip install dash numpy plotly\n"
      ],
      "metadata": {
        "id": "5FIdFriKoSX5",
        "colab": {
          "base_uri": "https://localhost:8080/"
        },
        "outputId": "b73fdfd6-377e-4e15-e7a9-330820037d32"
      },
      "execution_count": 13,
      "outputs": [
        {
          "output_type": "stream",
          "name": "stdout",
          "text": [
            "Collecting dash\n",
            "  Downloading dash-2.18.2-py3-none-any.whl.metadata (10 kB)\n",
            "Requirement already satisfied: numpy in /usr/local/lib/python3.11/dist-packages (1.26.4)\n",
            "Requirement already satisfied: plotly in /usr/local/lib/python3.11/dist-packages (5.24.1)\n",
            "Collecting Flask<3.1,>=1.0.4 (from dash)\n",
            "  Downloading flask-3.0.3-py3-none-any.whl.metadata (3.2 kB)\n",
            "Collecting Werkzeug<3.1 (from dash)\n",
            "  Downloading werkzeug-3.0.6-py3-none-any.whl.metadata (3.7 kB)\n",
            "Collecting dash-html-components==2.0.0 (from dash)\n",
            "  Downloading dash_html_components-2.0.0-py3-none-any.whl.metadata (3.8 kB)\n",
            "Collecting dash-core-components==2.0.0 (from dash)\n",
            "  Downloading dash_core_components-2.0.0-py3-none-any.whl.metadata (2.9 kB)\n",
            "Collecting dash-table==5.0.0 (from dash)\n",
            "  Downloading dash_table-5.0.0-py3-none-any.whl.metadata (2.4 kB)\n",
            "Requirement already satisfied: importlib-metadata in /usr/local/lib/python3.11/dist-packages (from dash) (8.6.1)\n",
            "Requirement already satisfied: typing-extensions>=4.1.1 in /usr/local/lib/python3.11/dist-packages (from dash) (4.12.2)\n",
            "Requirement already satisfied: requests in /usr/local/lib/python3.11/dist-packages (from dash) (2.32.3)\n",
            "Collecting retrying (from dash)\n",
            "  Downloading retrying-1.3.4-py3-none-any.whl.metadata (6.9 kB)\n",
            "Requirement already satisfied: nest-asyncio in /usr/local/lib/python3.11/dist-packages (from dash) (1.6.0)\n",
            "Requirement already satisfied: setuptools in /usr/local/lib/python3.11/dist-packages (from dash) (75.1.0)\n",
            "Requirement already satisfied: tenacity>=6.2.0 in /usr/local/lib/python3.11/dist-packages (from plotly) (9.0.0)\n",
            "Requirement already satisfied: packaging in /usr/local/lib/python3.11/dist-packages (from plotly) (24.2)\n",
            "Requirement already satisfied: Jinja2>=3.1.2 in /usr/local/lib/python3.11/dist-packages (from Flask<3.1,>=1.0.4->dash) (3.1.5)\n",
            "Requirement already satisfied: itsdangerous>=2.1.2 in /usr/local/lib/python3.11/dist-packages (from Flask<3.1,>=1.0.4->dash) (2.2.0)\n",
            "Requirement already satisfied: click>=8.1.3 in /usr/local/lib/python3.11/dist-packages (from Flask<3.1,>=1.0.4->dash) (8.1.8)\n",
            "Requirement already satisfied: blinker>=1.6.2 in /usr/local/lib/python3.11/dist-packages (from Flask<3.1,>=1.0.4->dash) (1.9.0)\n",
            "Requirement already satisfied: MarkupSafe>=2.1.1 in /usr/local/lib/python3.11/dist-packages (from Werkzeug<3.1->dash) (3.0.2)\n",
            "Requirement already satisfied: zipp>=3.20 in /usr/local/lib/python3.11/dist-packages (from importlib-metadata->dash) (3.21.0)\n",
            "Requirement already satisfied: charset-normalizer<4,>=2 in /usr/local/lib/python3.11/dist-packages (from requests->dash) (3.4.1)\n",
            "Requirement already satisfied: idna<4,>=2.5 in /usr/local/lib/python3.11/dist-packages (from requests->dash) (3.10)\n",
            "Requirement already satisfied: urllib3<3,>=1.21.1 in /usr/local/lib/python3.11/dist-packages (from requests->dash) (2.3.0)\n",
            "Requirement already satisfied: certifi>=2017.4.17 in /usr/local/lib/python3.11/dist-packages (from requests->dash) (2025.1.31)\n",
            "Requirement already satisfied: six>=1.7.0 in /usr/local/lib/python3.11/dist-packages (from retrying->dash) (1.17.0)\n",
            "Downloading dash-2.18.2-py3-none-any.whl (7.8 MB)\n",
            "\u001b[2K   \u001b[90m━━━━━━━━━━━━━━━━━━━━━━━━━━━━━━━━━━━━━━━━\u001b[0m \u001b[32m7.8/7.8 MB\u001b[0m \u001b[31m41.2 MB/s\u001b[0m eta \u001b[36m0:00:00\u001b[0m\n",
            "\u001b[?25hDownloading dash_core_components-2.0.0-py3-none-any.whl (3.8 kB)\n",
            "Downloading dash_html_components-2.0.0-py3-none-any.whl (4.1 kB)\n",
            "Downloading dash_table-5.0.0-py3-none-any.whl (3.9 kB)\n",
            "Downloading flask-3.0.3-py3-none-any.whl (101 kB)\n",
            "\u001b[2K   \u001b[90m━━━━━━━━━━━━━━━━━━━━━━━━━━━━━━━━━━━━━━━━\u001b[0m \u001b[32m101.7/101.7 kB\u001b[0m \u001b[31m6.4 MB/s\u001b[0m eta \u001b[36m0:00:00\u001b[0m\n",
            "\u001b[?25hDownloading werkzeug-3.0.6-py3-none-any.whl (227 kB)\n",
            "\u001b[2K   \u001b[90m━━━━━━━━━━━━━━━━━━━━━━━━━━━━━━━━━━━━━━━━\u001b[0m \u001b[32m228.0/228.0 kB\u001b[0m \u001b[31m12.3 MB/s\u001b[0m eta \u001b[36m0:00:00\u001b[0m\n",
            "\u001b[?25hDownloading retrying-1.3.4-py3-none-any.whl (11 kB)\n",
            "Installing collected packages: dash-table, dash-html-components, dash-core-components, Werkzeug, retrying, Flask, dash\n",
            "  Attempting uninstall: Werkzeug\n",
            "    Found existing installation: Werkzeug 3.1.3\n",
            "    Uninstalling Werkzeug-3.1.3:\n",
            "      Successfully uninstalled Werkzeug-3.1.3\n",
            "  Attempting uninstall: Flask\n",
            "    Found existing installation: Flask 3.1.0\n",
            "    Uninstalling Flask-3.1.0:\n",
            "      Successfully uninstalled Flask-3.1.0\n",
            "Successfully installed Flask-3.0.3 Werkzeug-3.0.6 dash-2.18.2 dash-core-components-2.0.0 dash-html-components-2.0.0 dash-table-5.0.0 retrying-1.3.4\n"
          ]
        }
      ]
    },
    {
      "cell_type": "markdown",
      "source": [
        "**Import Libraries & Define Functions**"
      ],
      "metadata": {
        "id": "wVGDkVAkoYIn"
      }
    },
    {
      "cell_type": "code",
      "source": [
        "import dash\n",
        "from dash import dcc, html\n",
        "from dash.dependencies import Input, Output\n",
        "import numpy as np\n",
        "import plotly.graph_objects as go\n",
        "import random\n",
        "\n",
        "def generate_samples(n_samples, dist_type, summary_stat):\n",
        "    print(f\"Generating {n_samples} samples from {dist_type} distribution with {summary_stat} statistic\")\n",
        "\n",
        "    if dist_type == 'discrete uniform':\n",
        "        samples = [np.random.randint(0, 11, 30) for _ in range(n_samples)]\n",
        "    elif dist_type == 'continuous uniform':\n",
        "        samples = [np.random.uniform(0, 10, 30) for _ in range(n_samples)]\n",
        "    elif dist_type == 'normal':\n",
        "        samples = [np.random.normal(0, 1, 30) for _ in range(n_samples)]\n",
        "    elif dist_type == 'binomial':\n",
        "        samples = [np.random.binomial(10, 0.4, 30) for _ in range(n_samples)]\n",
        "    elif dist_type == 'poisson':\n",
        "        samples = [np.random.poisson(2, 30) for _ in range(n_samples)]\n",
        "\n",
        "    print(\"Sample generation complete.\")\n",
        "\n",
        "    if summary_stat == 'mean':\n",
        "        stat_values = [np.mean(sample) for sample in samples]\n",
        "    elif summary_stat == 'median':\n",
        "        stat_values = [np.median(sample) for sample in samples]\n",
        "    elif summary_stat == 'standard deviation':\n",
        "        stat_values = [np.std(sample) for sample in samples]\n",
        "\n",
        "    print(f\"Computed {summary_stat} for all samples.\")\n",
        "    return stat_values\n",
        "\n",
        "def generate_distribution_chart(distribution):\n",
        "    sample_x = np.linspace(0, 10, 100)\n",
        "    sample_y = np.ones_like(sample_x) / len(sample_x) if distribution in ['continuous uniform', 'discrete uniform'] else np.exp(-((sample_x - 0) ** 2) / 2) / np.sqrt(2 * np.pi) if distribution == 'normal' else np.random.binomial(10, 0.4, 100) / 10 if distribution == 'binomial' else np.random.poisson(2, 100) / 10\n",
        "\n",
        "    dist_fig = go.Figure()\n",
        "    dist_fig.add_trace(go.Bar(x=sample_x, y=sample_y, marker=dict(color='navy')))\n",
        "    dist_fig.update_layout(\n",
        "        title=f\"{distribution.capitalize()} Distribution\",\n",
        "        xaxis_title=\"Value\",\n",
        "        yaxis_title=\"Probability\",\n",
        "        bargap=0.2,\n",
        "        xaxis=dict(range=[0, 10]),\n",
        "        yaxis=dict(range=[0, 0.3])\n",
        "    )\n",
        "    return dist_fig\n"
      ],
      "metadata": {
        "id": "Kd7cgO06nxZA"
      },
      "execution_count": 14,
      "outputs": []
    },
    {
      "cell_type": "markdown",
      "source": [
        "**Initialize the Dash App**"
      ],
      "metadata": {
        "id": "kRUfEaJ0ong8"
      }
    },
    {
      "cell_type": "code",
      "source": [
        "app = dash.Dash(__name__)\n",
        "\n",
        "app.layout = html.Div([\n",
        "    html.H1(\"Exploring the Central Limit Theorem\"),\n",
        "\n",
        "    html.Label(\"Number of samples:\"),\n",
        "    dcc.Slider(\n",
        "        id='num_samples',\n",
        "        min=10,\n",
        "        max=10000,\n",
        "        marks={10: '10', 100: '100', 1000: '1000', 5000: '5000', 10000: '10000'},\n",
        "        step=10,\n",
        "        value=100\n",
        "    ),\n",
        "\n",
        "    html.Label(\"Summary statistic:\"),\n",
        "    dcc.Dropdown(\n",
        "        id='summary_stat',\n",
        "        options=[\n",
        "            {'label': 'Mean', 'value': 'mean'},\n",
        "            {'label': 'Median', 'value': 'median'},\n",
        "            {'label': 'Standard Deviation', 'value': 'standard deviation'}\n",
        "        ],\n",
        "        value='mean'\n",
        "    ),\n",
        "\n",
        "    html.Label(\"Distribution:\"),\n",
        "    dcc.Dropdown(\n",
        "        id='distribution',\n",
        "        options=[\n",
        "            {'label': 'Discrete Uniform', 'value': 'discrete uniform'},\n",
        "            {'label': 'Continuous Uniform', 'value': 'continuous uniform'},\n",
        "            {'label': 'Normal', 'value': 'normal'},\n",
        "            {'label': 'Binomial', 'value': 'binomial'},\n",
        "            {'label': 'Poisson', 'value': 'poisson'}\n",
        "        ],\n",
        "        value='discrete uniform'\n",
        "    ),\n",
        "\n",
        "    html.Div(id='distribution_info'),\n",
        "    dcc.Graph(id='distribution_chart'),\n",
        "    dcc.Graph(id='histogram')\n",
        "])\n"
      ],
      "metadata": {
        "id": "hNwel4C2orWy"
      },
      "execution_count": 15,
      "outputs": []
    },
    {
      "cell_type": "markdown",
      "source": [
        "**Define Callbacks**"
      ],
      "metadata": {
        "id": "H336SGwcovRG"
      }
    },
    {
      "cell_type": "code",
      "source": [
        "@app.callback(\n",
        "    Output('histogram', 'figure'),\n",
        "    Output('distribution_info', 'children'),\n",
        "    Input('num_samples', 'value'),\n",
        "    Input('summary_stat', 'value'),\n",
        "    Input('distribution', 'value')\n",
        ")\n",
        "def update_graph(num_samples, summary_stat, distribution):\n",
        "    print(f\"Updating graph with {num_samples} samples, {summary_stat} statistic, {distribution} distribution.\")\n",
        "    stat_values = generate_samples(num_samples, distribution, summary_stat)\n",
        "\n",
        "    fig = go.Figure()\n",
        "    fig.add_trace(go.Histogram(x=stat_values, nbinsx=30, marker=dict(color='navy')))\n",
        "    fig.update_layout(\n",
        "        title=f\"Sampling distribution of {num_samples} samples ({summary_stat.capitalize()}) from {distribution.capitalize()} distribution\",\n",
        "        xaxis_title=summary_stat.capitalize(),\n",
        "        yaxis_title=\"Count\",\n",
        "        bargap=0.2\n",
        "    )\n",
        "\n",
        "    distribution_explanations = {\n",
        "        'discrete uniform': \"Discrete Uniform: min=0, max=10\",\n",
        "        'continuous uniform': \"Continuous Uniform: min=0, max=10\",\n",
        "        'normal': \"Normal: μ=0, σ=1\",\n",
        "        'binomial': \"Binomial: n=10, p=0.4\",\n",
        "        'poisson': \"Poisson: λ=2\"\n",
        "    }\n",
        "\n",
        "    info_text = f\"{distribution.capitalize()} Distribution: {distribution_explanations.get(distribution, '')}\"\n",
        "\n",
        "    print(\"Graph updated successfully.\")\n",
        "    return fig, info_text\n",
        "\n",
        "@app.callback(\n",
        "    Output('distribution_chart', 'figure'),\n",
        "    Input('distribution', 'value')\n",
        ")\n",
        "def update_distribution_chart(distribution):\n",
        "    return generate_distribution_chart(distribution)\n"
      ],
      "metadata": {
        "id": "nqhyIQGlowsJ"
      },
      "execution_count": 16,
      "outputs": []
    },
    {
      "cell_type": "markdown",
      "source": [
        "### Run the Dash App Demo"
      ],
      "metadata": {
        "id": "G08s0MsHo3Ct"
      }
    },
    {
      "cell_type": "code",
      "source": [
        "if __name__ == '__main__':\n",
        "    print(\"Starting Dash application...\")\n",
        "    app.run_server(mode='inline', debug=True)\n"
      ],
      "metadata": {
        "colab": {
          "base_uri": "https://localhost:8080/",
          "height": 0
        },
        "id": "Row0Zl9uo4R2",
        "outputId": "6d7a41fd-afcd-4918-c895-dfaf7f086258"
      },
      "execution_count": 17,
      "outputs": [
        {
          "output_type": "stream",
          "name": "stdout",
          "text": [
            "Starting Dash application...\n"
          ]
        },
        {
          "output_type": "display_data",
          "data": {
            "text/plain": [
              "<IPython.core.display.Javascript object>"
            ],
            "application/javascript": [
              "(async (port, path, width, height, cache, element) => {\n",
              "    if (!google.colab.kernel.accessAllowed && !cache) {\n",
              "      return;\n",
              "    }\n",
              "    element.appendChild(document.createTextNode(''));\n",
              "    const url = await google.colab.kernel.proxyPort(port, {cache});\n",
              "    const iframe = document.createElement('iframe');\n",
              "    iframe.src = new URL(path, url).toString();\n",
              "    iframe.height = height;\n",
              "    iframe.width = width;\n",
              "    iframe.style.border = 0;\n",
              "    iframe.allow = [\n",
              "        'accelerometer',\n",
              "        'autoplay',\n",
              "        'camera',\n",
              "        'clipboard-read',\n",
              "        'clipboard-write',\n",
              "        'gyroscope',\n",
              "        'magnetometer',\n",
              "        'microphone',\n",
              "        'serial',\n",
              "        'usb',\n",
              "        'xr-spatial-tracking',\n",
              "    ].join('; ');\n",
              "    element.appendChild(iframe);\n",
              "  })(8050, \"/\", \"100%\", 650, false, window.element)"
            ]
          },
          "metadata": {}
        }
      ]
    },
    {
      "cell_type": "markdown",
      "source": [
        "### Exercise - **Visualizing sampling distributions**\n",
        "\n",
        "from above, try creating sampling distributions of different summary statistics from samples of different distributions. Which distribution does the central limit theorem not apply to?"
      ],
      "metadata": {
        "id": "cbllju6FdfvB"
      }
    },
    {
      "cell_type": "markdown",
      "source": [
        "\n",
        "* Discrete uniform distribution\n",
        "\n",
        "* Continuous uniform distribution\n",
        "\n",
        "* Binomial distribution\n",
        "\n",
        "* All of the above\n",
        "\n",
        "* None of the above ✅"
      ],
      "metadata": {
        "id": "G-w_Txp8qkoa"
      }
    },
    {
      "cell_type": "markdown",
      "source": [
        "Regardless of the shape of the distribution you're taking sample means from, the central limit theorem will apply if the sampling distribution contains enough sample means.\n",
        "\n"
      ],
      "metadata": {
        "id": "PbH1sVRSquh8"
      }
    },
    {
      "cell_type": "markdown",
      "source": [
        "### Exercise - **The CLT in action**"
      ],
      "metadata": {
        "id": "Ua4j2AnnsEVd"
      }
    },
    {
      "cell_type": "markdown",
      "source": [
        "The central limit theorem states that a sampling distribution of a sample statistic approaches the normal distribution as you take more samples, no matter the original distribution being sampled from.\n",
        "\n",
        "In this exercise, you'll focus on the sample mean and see the central limit theorem in action while examining the `num_users` column of `amir_deals` more closely, which contains the number of people who intend to use the product Amir is selling."
      ],
      "metadata": {
        "id": "wUUxrsgGsQz8"
      }
    },
    {
      "cell_type": "markdown",
      "source": [
        "**Instructions 1/4**\n",
        "\n",
        "* Create a histogram of the `num_users` column of `amir_deals` and show the plot."
      ],
      "metadata": {
        "id": "J-3AvB8wscKX"
      }
    },
    {
      "cell_type": "code",
      "source": [
        "num_users = amir_deals['num_users']\n",
        "\n",
        "amir_deals.hist()\n",
        "plt.show()"
      ],
      "metadata": {
        "colab": {
          "base_uri": "https://localhost:8080/",
          "height": 452
        },
        "id": "IIm_VTLmtT-1",
        "outputId": "26382d76-368c-445c-9991-e3c8f013b7ee"
      },
      "execution_count": 18,
      "outputs": [
        {
          "output_type": "display_data",
          "data": {
            "text/plain": [
              "<Figure size 640x480 with 4 Axes>"
            ],
            "image/png": "[encoded data removed]"
          },
          "metadata": {}
        }
      ]
    },
    {
      "cell_type": "markdown",
      "source": [
        "**Instructions 2/4**\n",
        "\n",
        "* Set the seed to `104`.\n",
        "* Take a sample of size `20` with replacement from the `num_users` column of `amir_deals`, and take the mean."
      ],
      "metadata": {
        "id": "EOouP4Wvx53P"
      }
    },
    {
      "cell_type": "code",
      "source": [
        "# Set seed to 104\n",
        "np.random.seed(104)\n",
        "\n",
        "# sample 20 num_users with replacement from amir_deals\n",
        "samp_20 = amir_deals['num_users'].sample(20,replace=True) # samp_20 = np.random.choice(amir_deals['num_users'],20,replace=True)\n",
        "\n",
        "# Take mean of samp_20\n",
        "print(np.mean(samp_20))"
      ],
      "metadata": {
        "colab": {
          "base_uri": "https://localhost:8080/"
        },
        "id": "1L38xXj5s8zo",
        "outputId": "11d92b32-71c8-4971-efb1-6ab5f31fc48c"
      },
      "execution_count": 19,
      "outputs": [
        {
          "output_type": "stream",
          "name": "stdout",
          "text": [
            "32.0\n"
          ]
        }
      ]
    },
    {
      "cell_type": "markdown",
      "source": [
        "**Instructions 3/4**\n",
        "\n",
        "* Repeat this 100 times using a `for` loop and store as `sample_means`. This will take 100 different samples and calculate the mean of each.\n",
        "\n"
      ],
      "metadata": {
        "id": "jox_EcaxxmAy"
      }
    },
    {
      "cell_type": "code",
      "source": [
        "sample_means = []\n",
        "# Loop 100 times\n",
        "for i in range(100):\n",
        "  # Take sample of 20 num_users\n",
        "  samp_20 = amir_deals['num_users'].sample(20,replace=True)\n",
        "  # Calculate mean of samp_20\n",
        "  samp_20_mean = np.mean(samp_20)\n",
        "  # Append samp_20_mean to sample_means\n",
        "  sample_means.append(samp_20_mean)\n",
        "\n",
        "print(sample_means)"
      ],
      "metadata": {
        "colab": {
          "base_uri": "https://localhost:8080/"
        },
        "id": "xBsKdqNAxlwr",
        "outputId": "98cf5b6a-61fa-482c-a3bd-75f2989b7b70"
      },
      "execution_count": 20,
      "outputs": [
        {
          "output_type": "stream",
          "name": "stdout",
          "text": [
            "[31.35, 45.05, 33.55, 38.15, 50.85, 31.85, 34.65, 36.25, 38.9, 44.05, 35.45, 37.6, 37.95, 28.85, 33.3, 31.65, 45.5, 43.2, 24.4, 41.05, 37.2, 39.3, 29.45, 33.55, 45.3, 45.1, 30.95, 36.25, 37.65, 42.55, 34.55, 41.1, 36.9, 42.45, 38.45, 45.9, 42.7, 38.4, 32.55, 30.25, 38.0, 38.75, 49.3, 39.55, 49.05, 42.05, 41.0, 40.6, 58.25, 34.55, 51.2, 34.15, 36.95, 42.45, 41.85, 33.2, 36.15, 37.55, 34.2, 29.75, 42.35, 43.75, 29.0, 32.05, 31.65, 44.6, 30.85, 29.6, 37.7, 33.1, 36.35, 40.65, 45.7, 33.8, 40.1, 39.9, 33.5, 32.65, 32.85, 42.85, 35.4, 31.7, 32.0, 33.85, 36.6, 44.35, 39.9, 37.0, 37.3, 42.5, 38.35, 42.8, 44.55, 30.3, 50.45, 42.35, 40.65, 29.85, 39.3, 33.1]\n"
          ]
        }
      ]
    },
    {
      "cell_type": "markdown",
      "source": [
        "**Instructions 4/4**\n",
        "\n",
        "* Convert `sample_means` into a `pd.Series`, create a histogram of the `sample_means`, and show the plot."
      ],
      "metadata": {
        "id": "gCE6LCKyyr-w"
      }
    },
    {
      "cell_type": "code",
      "source": [
        "# Convert to Series and plot histogram\n",
        "sample_means_series = pd.Series(sample_means)\n",
        "sample_means_series.hist()\n",
        "# Show plot\n",
        "plt.show()"
      ],
      "metadata": {
        "colab": {
          "base_uri": "https://localhost:8080/",
          "height": 430
        },
        "id": "tmUS8oHnxdWb",
        "outputId": "68c9a8de-c871-4e69-9411-ca206d7e6ed1"
      },
      "execution_count": 21,
      "outputs": [
        {
          "output_type": "display_data",
          "data": {
            "text/plain": [
              "<Figure size 640x480 with 1 Axes>"
            ],
            "image/png": "[encoded data removed]"
          },
          "metadata": {}
        }
      ]
    },
    {
      "cell_type": "markdown",
      "source": [
        "Fabulous job! You've just seen the central limit thorem at work. Even though the distribution of `num_users` is not normal, the distribution of its sample means resembles the normal distribution."
      ],
      "metadata": {
        "id": "Ov1qyHR6zsD4"
      }
    },
    {
      "cell_type": "markdown",
      "source": [
        "### Exercise - **The mean of means**"
      ],
      "metadata": {
        "id": "pAj5_jf_z1SJ"
      }
    },
    {
      "cell_type": "markdown",
      "source": [
        "You want to know what the average number of users (`num_users`) is per deal, but you want to know this number for the entire company so that you can see if Amir's deals have more or fewer users than the company's average deal. The problem is that over the past year, the company has worked on more than ten thousand deals, so it's not realistic to compile all the data. Instead, you'll estimate the mean by taking several random samples of deals, since this is much easier than collecting data from everyone in the company.\n",
        "\n",
        "`amir_deals` is available and the user data for all the company's deals is available in `all_deals`. Both `pandas` as `pd` and `numpy` as `np` are loaded."
      ],
      "metadata": {
        "id": "LOyrQMXN0IDi"
      }
    },
    {
      "cell_type": "markdown",
      "source": [
        "**Instructions**\n",
        "\n",
        "* Set the random seed to 321.\n",
        "* Take 30 samples (with replacement) of size 20 from all_deals['num_users'] and take the mean of each sample. Store the sample means in sample_means.\n",
        "* Print the mean of sample_means.\n",
        "* Print the mean of the num_users column of amir_deals.\n",
        "\n"
      ],
      "metadata": {
        "id": "k-47ZmV9WvTC"
      }
    },
    {
      "cell_type": "code",
      "source": [
        "# Set seed to 321\n",
        "np.random.seed(321)\n",
        "\n",
        "sample_means = []\n",
        "# Loop 30 times to take 30 means\n",
        "for i in range(30):\n",
        "  # Take sample of size 20 from num_users col of all_deals with replacement\n",
        "  cur_sample = all_deals['num_users'].sample(20, replace =True)\n",
        "  # Take mean of cur_sample\n",
        "  cur_mean = np.mean(cur_sample)\n",
        "  # Append cur_mean to sample_means\n",
        "  sample_means.append(cur_mean)\n",
        "\n",
        "# Print mean of sample_means\n",
        "print(np.mean(sample_means))\n",
        "\n",
        "# Print mean of num_users in amir_deals\n",
        "print(np.mean(amir_deals['num_users']))"
      ],
      "metadata": {
        "colab": {
          "base_uri": "https://localhost:8080/",
          "height": 211
        },
        "id": "Xju2-6DWzw1E",
        "outputId": "c7bbe8ae-260b-4e14-d8ce-f9540abd3be5"
      },
      "execution_count": 1,
      "outputs": [
        {
          "output_type": "error",
          "ename": "NameError",
          "evalue": "name 'np' is not defined",
          "traceback": [
            "\u001b[0;31m---------------------------------------------------------------------------\u001b[0m",
            "\u001b[0;31mNameError\u001b[0m                                 Traceback (most recent call last)",
            "\u001b[0;32m<ipython-input-1-54717f8ace22>\u001b[0m in \u001b[0;36m<cell line: 0>\u001b[0;34m()\u001b[0m\n\u001b[1;32m      1\u001b[0m \u001b[0;31m# Set seed to 321\u001b[0m\u001b[0;34m\u001b[0m\u001b[0;34m\u001b[0m\u001b[0m\n\u001b[0;32m----> 2\u001b[0;31m \u001b[0mnp\u001b[0m\u001b[0;34m.\u001b[0m\u001b[0mrandom\u001b[0m\u001b[0;34m.\u001b[0m\u001b[0mseed\u001b[0m\u001b[0;34m(\u001b[0m\u001b[0;36m321\u001b[0m\u001b[0;34m)\u001b[0m\u001b[0;34m\u001b[0m\u001b[0;34m\u001b[0m\u001b[0m\n\u001b[0m\u001b[1;32m      3\u001b[0m \u001b[0;34m\u001b[0m\u001b[0m\n\u001b[1;32m      4\u001b[0m \u001b[0msample_means\u001b[0m \u001b[0;34m=\u001b[0m \u001b[0;34m[\u001b[0m\u001b[0;34m]\u001b[0m\u001b[0;34m\u001b[0m\u001b[0;34m\u001b[0m\u001b[0m\n\u001b[1;32m      5\u001b[0m \u001b[0;31m# Loop 30 times to take 30 means\u001b[0m\u001b[0;34m\u001b[0m\u001b[0;34m\u001b[0m\u001b[0m\n",
            "\u001b[0;31mNameError\u001b[0m: name 'np' is not defined"
          ]
        }
      ]
    },
    {
      "cell_type": "markdown",
      "source": [
        "Magnificent mean calculation! Amir's average number of users is very close to the overall average, so it looks like he's meeting expectations. Make sure to note this in his performance review!"
      ],
      "metadata": {
        "id": "nB0jLocba4T-"
      }
    },
    {
      "cell_type": "markdown",
      "source": [
        "## **The Poisson distribution**"
      ],
      "metadata": {
        "id": "91mX8_yNcdQf"
      }
    },
    {
      "cell_type": "markdown",
      "source": [
        "### Exercise - **Identifying lambda**"
      ],
      "metadata": {
        "id": "BmW44ltusk3z"
      }
    },
    {
      "cell_type": "markdown",
      "source": [
        "### Exercise - **Tracking lead responses**\n",
        "\n",
        "Your company uses sales software to keep track of new sales leads. It organizes them into a queue so that anyone can follow up on one when they have a bit of free time. Since the number of lead responses is a countable outcome over a period of time, this scenario corresponds to a Poisson distribution. On average, Amir responds to 4 leads each day. In this exercise, you'll calculate probabilities of Amir responding to different numbers of leads."
      ],
      "metadata": {
        "id": "5iY_I7aEst86"
      }
    },
    {
      "cell_type": "markdown",
      "source": [
        "**Instructions**\n",
        "\n",
        "* Import poisson from scipy.stats and calculate the probability that Amir responds to 5 leads in a day, given that he responds to an average of 4.\n",
        "\n",
        "* Amir's coworker responds to an average of 5.5 leads per day. What is the probability that she answers 5 leads in a day?\n",
        "\n",
        "* What's the probability that Amir responds to 2 or fewer leads in a day?\n",
        "\n",
        "* What's the probability that Amir responds to more than 10 leads in a day?"
      ],
      "metadata": {
        "id": "OOR2EGqztA4s"
      }
    },
    {
      "cell_type": "code",
      "source": [
        "# Import poisson from scipy.stats\n",
        "from scipy.stats import poisson"
      ],
      "metadata": {
        "id": "8ay1qg2ztjyq"
      },
      "execution_count": 2,
      "outputs": []
    },
    {
      "cell_type": "code",
      "source": [
        "# Probability of 5 responses\n",
        "prob_5 = poisson.pmf(5, 4)\n",
        "\n",
        "print(prob_5)"
      ],
      "metadata": {
        "colab": {
          "base_uri": "https://localhost:8080/"
        },
        "id": "YGjgzf1ca6me",
        "outputId": "891a5f78-e52a-4e88-c2bf-6b0a75a721f6"
      },
      "execution_count": 3,
      "outputs": [
        {
          "output_type": "stream",
          "name": "stdout",
          "text": [
            "0.1562934518505317\n"
          ]
        }
      ]
    },
    {
      "cell_type": "code",
      "source": [
        "# Probability of 5 responses\n",
        "prob_coworker = poisson.pmf(5,5.5)\n",
        "\n",
        "print(prob_coworker)"
      ],
      "metadata": {
        "colab": {
          "base_uri": "https://localhost:8080/"
        },
        "id": "SoblilBitlVW",
        "outputId": "ae5826a8-61de-4de6-f718-050c8c8aaae9"
      },
      "execution_count": 4,
      "outputs": [
        {
          "output_type": "stream",
          "name": "stdout",
          "text": [
            "0.17140068409793663\n"
          ]
        }
      ]
    },
    {
      "cell_type": "code",
      "source": [
        "# Probability of 2 or fewer responses\n",
        "prob_2_or_less = poisson.cdf(2, 4)\n",
        "\n",
        "print(prob_2_or_less)"
      ],
      "metadata": {
        "colab": {
          "base_uri": "https://localhost:8080/"
        },
        "id": "pPduLxn3tqZc",
        "outputId": "ce294f36-9e49-477e-e829-a89af45caed4"
      },
      "execution_count": 5,
      "outputs": [
        {
          "output_type": "stream",
          "name": "stdout",
          "text": [
            "0.23810330555354436\n"
          ]
        }
      ]
    },
    {
      "cell_type": "code",
      "source": [
        "# Probability of > 10 responses\n",
        "prob_over_10 = 1 - poisson.cdf(10, 4)\n",
        "\n",
        "print(prob_over_10)"
      ],
      "metadata": {
        "colab": {
          "base_uri": "https://localhost:8080/"
        },
        "id": "ZQOQnzImtsr4",
        "outputId": "322244a5-aff7-46e9-e303-040898ea5d9c"
      },
      "execution_count": 6,
      "outputs": [
        {
          "output_type": "stream",
          "name": "stdout",
          "text": [
            "0.0028397661205137315\n"
          ]
        }
      ]
    },
    {
      "cell_type": "markdown",
      "source": [
        " Note that if you provide `poisson.pmf()` or `poisson.cdf()`with a non-integer, it throws an error since the Poisson distribution only applies to integers."
      ],
      "metadata": {
        "id": "xo1ysMwZtwkv"
      }
    },
    {
      "cell_type": "markdown",
      "source": [
        "## **More probability distributions**"
      ],
      "metadata": {
        "id": "-CoNM4Fot3-C"
      }
    },
    {
      "cell_type": "markdown",
      "source": [
        "### Exercise - **Distribution dragging and dropping**\n",
        "\n",
        "By this point, you've learned about so many different probability distributions that it can be difficult to remember which is which. In this exercise, you'll practice distinguishing between distributions and identifying the distribution that best matches different scenarios.\n",
        "\n",
        "\n",
        "\n",
        "\n",
        "![image.png](data:image/png;base64,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)"
      ],
      "metadata": {
        "id": "EHf0c0DcvseP"
      }
    },
    {
      "cell_type": "markdown",
      "source": [
        "### Exercise - **Modeling time between leads**\n",
        "\n",
        "To further evaluate Amir's performance, you want to know how much time it takes him to respond to a lead after he opens it. On average, he responds to 1 request every 2.5 hours. In this exercise, you'll calculate probabilities of different amounts of time passing between Amir receiving a lead and sending a response."
      ],
      "metadata": {
        "id": "UK0zyB3KwFWG"
      }
    },
    {
      "cell_type": "markdown",
      "source": [
        "**Instructions**\n",
        "\n",
        "* Import expon from scipy.stats. What's the probability it takes Amir less than an hour to respond to a lead?\n",
        "\n",
        "* What's the probability it takes Amir more than 4 hours to respond to a lead?\n",
        "\n",
        "* What's the probability it takes Amir 3-4 hours to respond to a lead?\n",
        "\n"
      ],
      "metadata": {
        "id": "sSHjGTWjwRI-"
      }
    },
    {
      "cell_type": "code",
      "source": [
        "# Import expon from scipy.stats\n",
        "from scipy.stats import expon"
      ],
      "metadata": {
        "id": "eMG_VxlLxkLo"
      },
      "execution_count": 7,
      "outputs": []
    },
    {
      "cell_type": "code",
      "source": [
        "# Print probability response takes < 1 hour\n",
        "print(expon.cdf(1, scale = 2.5))"
      ],
      "metadata": {
        "colab": {
          "base_uri": "https://localhost:8080/"
        },
        "id": "8P49hGylt03V",
        "outputId": "bbd2acb0-a1d0-4a65-bb86-ea1630294095"
      },
      "execution_count": 8,
      "outputs": [
        {
          "output_type": "stream",
          "name": "stdout",
          "text": [
            "0.3296799539643607\n"
          ]
        }
      ]
    },
    {
      "cell_type": "code",
      "source": [
        "# Print probability response takes > 4 hours\n",
        "# Print probability response takes > 4 hours\n",
        "print(1 - expon.cdf(4, scale = 2.5))"
      ],
      "metadata": {
        "colab": {
          "base_uri": "https://localhost:8080/"
        },
        "id": "CqvH4stgxrE-",
        "outputId": "24478959-9b7e-45a9-8006-68bfad7caa85"
      },
      "execution_count": 9,
      "outputs": [
        {
          "output_type": "stream",
          "name": "stdout",
          "text": [
            "0.20189651799465536\n"
          ]
        }
      ]
    },
    {
      "cell_type": "code",
      "source": [
        "# Print probability response takes 3-4 hours\n",
        "print(expon.cdf(4, scale= 2.5) - expon.cdf(3, scale= 2.5))"
      ],
      "metadata": {
        "colab": {
          "base_uri": "https://localhost:8080/"
        },
        "id": "2hFw2XSWx90E",
        "outputId": "77b5bbb7-bb4e-4dd0-f7e5-45218c1ca5fe"
      },
      "execution_count": 10,
      "outputs": [
        {
          "output_type": "stream",
          "name": "stdout",
          "text": [
            "0.09929769391754684\n"
          ]
        }
      ]
    },
    {
      "cell_type": "markdown",
      "source": [
        "There's only about a 20% chance it will take Amir more than 4 hours to respond, so he's pretty speedy in his responses."
      ],
      "metadata": {
        "id": "cc_WsFrAxnd5"
      }
    },
    {
      "cell_type": "markdown",
      "source": [
        "### The t-distribution"
      ],
      "metadata": {
        "id": "FRGdKOg1yVCl"
      }
    },
    {
      "cell_type": "markdown",
      "source": [
        "Which statement is **not** true regarding the t-distribution?\n",
        "\n",
        "\n",
        "* The t-distribution has thicker tails than the normal distribution. ✅\n",
        "\n",
        "* A t-distribution with high degrees of freedom resembles the normal distribution. ✅\n",
        "\n",
        "* The number of degrees of freedom affects the distribution's variance. ✅\n",
        "\n",
        "* The t-distribution is skewed. ❌"
      ],
      "metadata": {
        "id": "D_oiO8ndycCp"
      }
    },
    {
      "cell_type": "markdown",
      "source": [
        "The t-distribution is not skewed, just like the normal distribution, but it does have thicker tails and higher variance than the normal distribution."
      ],
      "metadata": {
        "id": "tQ-2Qu3-yz97"
      }
    }
  ]
}