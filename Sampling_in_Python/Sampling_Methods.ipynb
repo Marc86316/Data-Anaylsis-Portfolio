{
  "nbformat": 4,
  "nbformat_minor": 0,
  "metadata": {
    "colab": {
      "provenance": [],
      "authorship_tag": "ABX9TyMon2/UQZH/VE1ZmvX0DJ6K",
      "include_colab_link": true
    },
    "kernelspec": {
      "name": "python3",
      "display_name": "Python 3"
    },
    "language_info": {
      "name": "python"
    }
  },
  "cells": [
    {
      "cell_type": "markdown",
      "metadata": {
        "id": "view-in-github",
        "colab_type": "text"
      },
      "source": [
        "<a href=\"https://colab.research.google.com/github/Marc86316/DataCamp/blob/main/Sampling_in_Python/Sampling_Methods.ipynb\" target=\"_parent\"><img src=\"https://colab.research.google.com/assets/colab-badge.svg\" alt=\"Open In Colab\"/></a>"
      ]
    },
    {
      "cell_type": "markdown",
      "source": [
        "# Sampling Methods\n",
        "Key four random sampling methods in Python: simple, systematic, stratified, and cluster."
      ],
      "metadata": {
        "id": "9fg8KfSfl-bV"
      }
    },
    {
      "cell_type": "markdown",
      "source": [
        "## Big question\n",
        "\n",
        "> what's sampling?\n",
        "\n",
        "> why we need sampling?"
      ],
      "metadata": {
        "id": "zbI2zvSlDUfo"
      }
    },
    {
      "cell_type": "markdown",
      "source": [
        "# Simple random and systematic sampling"
      ],
      "metadata": {
        "id": "UUXANEG_mPQy"
      }
    },
    {
      "cell_type": "markdown",
      "source": [
        "## import needed library and dataset"
      ],
      "metadata": {
        "id": "4gy8A5M_LP7k"
      }
    },
    {
      "cell_type": "code",
      "source": [
        "import pandas as pd\n",
        "import numpy as np\n",
        "import matplotlib.pyplot as plt\n",
        "\n",
        "attrition_url = \"https://raw.githubusercontent.com/Marc86316/DataCamp/refs/heads/main/Sampling_in_Python/attrition.csv\"\n",
        "coffee_ratings_full_url = \"https://raw.githubusercontent.com/Marc86316/DataCamp/refs/heads/main/Sampling_in_Python/coffee_ratings_full.csv\"\n",
        "spotify_2000_2020_url = \"https://raw.githubusercontent.com/Marc86316/DataCamp/refs/heads/main/Sampling_in_Python/spotify_2000_2020.csv\"\n",
        "\n",
        "attrition_pop = pd.read_csv(attrition_url)\n",
        "coffee_ratings_full = pd.read_csv(coffee_ratings_full_url)\n",
        "spotify_2000_2020 = pd.read_csv(spotify_2000_2020_url)"
      ],
      "metadata": {
        "id": "YdAPP-GCmInL"
      },
      "execution_count": 7,
      "outputs": []
    },
    {
      "cell_type": "markdown",
      "source": [
        "## Exercise - Simple random sampling\n",
        "\n",
        "The most basic form of sampling is **Simple Random Sampling (SRS)**. In this method, each row in the dataset has an equal probability of being selected. You’ll use this technique on a fictional employee dataset from IBM, where **\"attrition\"** refers to employees leaving the company.\n",
        "\n",
        "You’ll sample 70 rows at random from the full dataset `attrition_pop`.\n",
        "\n",
        "---\n",
        "\n",
        "### Instructions\n",
        "\n",
        "- Use `pd.sample()` to randomly select **70 rows** from `attrition_pop`.\n",
        "- Set the `random_state` to `18900217` for reproducibility.\n",
        "- Assign the result to a new DataFrame called `attrition_samp`.\n",
        "- Print `attrition_samp` and observe the index — note that the original indices are preserved unless reset.\n"
      ],
      "metadata": {
        "id": "NNHfcYHBoBYi"
      }
    },
    {
      "cell_type": "code",
      "source": [
        "# Sample 70 rows with simple random sampling\n",
        "attrition_samp = attrition_pop.sample(n=70, random_state=18900217)\n",
        "\n",
        "# Print the sampled DataFrame\n",
        "print(attrition_samp)\n"
      ],
      "metadata": {
        "colab": {
          "base_uri": "https://localhost:8080/"
        },
        "id": "XqrtPaGPoJZR",
        "outputId": "9c946ecc-aa70-4587-ad59-979f18dbe79a"
      },
      "execution_count": 3,
      "outputs": [
        {
          "output_type": "stream",
          "name": "stdout",
          "text": [
            "      Age  Attrition     BusinessTravel  DailyRate            Department  \\\n",
            "1134   35        0.0      Travel_Rarely        583  Research_Development   \n",
            "1150   52        0.0         Non-Travel        585                 Sales   \n",
            "531    33        0.0      Travel_Rarely        931  Research_Development   \n",
            "395    31        0.0      Travel_Rarely       1332  Research_Development   \n",
            "392    29        0.0      Travel_Rarely        942  Research_Development   \n",
            "...   ...        ...                ...        ...                   ...   \n",
            "361    27        0.0  Travel_Frequently       1410                 Sales   \n",
            "1180   36        0.0      Travel_Rarely        530                 Sales   \n",
            "230    26        0.0      Travel_Rarely       1443                 Sales   \n",
            "211    29        0.0  Travel_Frequently        410  Research_Development   \n",
            "890    30        0.0  Travel_Frequently       1312  Research_Development   \n",
            "\n",
            "      DistanceFromHome      Education    EducationField  \\\n",
            "1134                25         Master           Medical   \n",
            "1150                29         Master     Life_Sciences   \n",
            "531                 14       Bachelor           Medical   \n",
            "395                 11        College           Medical   \n",
            "392                 15  Below_College     Life_Sciences   \n",
            "...                ...            ...               ...   \n",
            "361                  3  Below_College           Medical   \n",
            "1180                 2         Master     Life_Sciences   \n",
            "230                 23       Bachelor         Marketing   \n",
            "211                  2  Below_College     Life_Sciences   \n",
            "890                  2         Master  Technical_Degree   \n",
            "\n",
            "     EnvironmentSatisfaction  Gender  ...  PerformanceRating  \\\n",
            "1134                    High  Female  ...          Excellent   \n",
            "1150                     Low    Male  ...          Excellent   \n",
            "531                Very_High  Female  ...          Excellent   \n",
            "395                     High    Male  ...          Excellent   \n",
            "392                   Medium  Female  ...          Excellent   \n",
            "...                      ...     ...  ...                ...   \n",
            "361                Very_High  Female  ...        Outstanding   \n",
            "1180                    High  Female  ...          Excellent   \n",
            "230                     High  Female  ...          Excellent   \n",
            "211                Very_High  Female  ...          Excellent   \n",
            "890                Very_High  Female  ...          Excellent   \n",
            "\n",
            "     RelationshipSatisfaction  StockOptionLevel TotalWorkingYears  \\\n",
            "1134                     High                 1                16   \n",
            "1150                   Medium                 2                16   \n",
            "531                 Very_High                 1                 8   \n",
            "395                 Very_High                 0                 6   \n",
            "392                       Low                 1                 6   \n",
            "...                       ...               ...               ...   \n",
            "361                    Medium                 2                 6   \n",
            "1180                     High                 0                17   \n",
            "230                      High                 1                 5   \n",
            "211                      High                 3                 4   \n",
            "890                 Very_High                 0                10   \n",
            "\n",
            "     TrainingTimesLastYear WorkLifeBalance  YearsAtCompany  \\\n",
            "1134                     3            Good              16   \n",
            "1150                     3            Good               9   \n",
            "531                      5          Better               8   \n",
            "395                      2            Good               6   \n",
            "392                      2            Good               5   \n",
            "...                    ...             ...             ...   \n",
            "361                      3          Better               6   \n",
            "1180                     2            Good              13   \n",
            "230                      2            Good               2   \n",
            "211                      3          Better               3   \n",
            "890                      2          Better               9   \n",
            "\n",
            "      YearsInCurrentRole  YearsSinceLastPromotion YearsWithCurrManager  \n",
            "1134                  10                       10                    1  \n",
            "1150                   8                        0                    0  \n",
            "531                    7                        1                    6  \n",
            "395                    5                        0                    1  \n",
            "392                    4                        1                    3  \n",
            "...                  ...                      ...                  ...  \n",
            "361                    5                        0                    4  \n",
            "1180                   7                        6                    7  \n",
            "230                    2                        0                    0  \n",
            "211                    2                        0                    2  \n",
            "890                    7                        0                    7  \n",
            "\n",
            "[70 rows x 31 columns]\n"
          ]
        }
      ]
    },
    {
      "cell_type": "markdown",
      "source": [
        " Notice how the indexes in the sample aren't always in increasing order. They are just random."
      ],
      "metadata": {
        "id": "X-iBefSXxtzY"
      }
    },
    {
      "cell_type": "markdown",
      "source": [
        "## Exercise - Systematic sampling\n",
        "\n",
        "**Systematic sampling** is a non-random technique where rows are selected at regular intervals from the population. For example, if you want 70 samples from a dataset with 700 rows, you would select every 10th row (i.e., at intervals of 10).\n",
        "\n",
        "You’ll apply this method to the `attrition_pop` dataset.\n"
      ],
      "metadata": {
        "id": "2Wetvm7P92Uq"
      }
    },
    {
      "cell_type": "markdown",
      "source": [
        "### Big Question:\n",
        "\n",
        "> What's systematic sampling?\n",
        "\n",
        "> How to use systematic sampling?"
      ],
      "metadata": {
        "id": "qDJVte6I_wHA"
      }
    },
    {
      "cell_type": "markdown",
      "source": [
        "### Instructions 1/2\n",
        "\n",
        "1. Set the sample size to `70`.\n",
        "2. Calculate the total population size using `len(attrition_pop)`.\n",
        "3. Compute the sampling interval by dividing the population size by the sample size and rounding down.\n"
      ],
      "metadata": {
        "id": "BoRqEAQe96me"
      }
    },
    {
      "cell_type": "code",
      "source": [
        "# Set the sample size to 70\n",
        "sample_size = 70\n",
        "\n",
        "# Calculate the population size from attrition_pop\n",
        "pop_size = len(attrition_pop)\n",
        "\n",
        "# Calculate the interval\n",
        "interval = pop_size // sample_size"
      ],
      "metadata": {
        "id": "pLUU_ztX-PVi"
      },
      "execution_count": 5,
      "outputs": []
    },
    {
      "cell_type": "markdown",
      "source": [
        "### Instructions 2/2\n",
        "\n",
        "\n",
        "1. Use slicing with `.iloc` to select every `interval`-th row, starting from index 0.\n",
        "2. Store the resulting sample in a new DataFrame called `attrition_sys_samp`.\n",
        "\n",
        "Other approach : Use `np.arange()` to generate row indices starting at 0, increasing by the interval until the end of the dataset."
      ],
      "metadata": {
        "id": "tF_ovkpw-Jll"
      }
    },
    {
      "cell_type": "code",
      "source": [
        "# Set the sample size to 70\n",
        "sample_size = 70\n",
        "\n",
        "# Calculate the population size from attrition_pop\n",
        "pop_size = len(attrition_pop)\n",
        "\n",
        "# Calculate the interval\n",
        "interval = pop_size // sample_size\n",
        "\n",
        "# Systematically sample 70 rows\n",
        "attrition_sys_samp = attrition_pop.iloc[::interval]\n",
        "\n",
        "# Print the sample\n",
        "print(attrition_sys_samp)"
      ],
      "metadata": {
        "colab": {
          "base_uri": "https://localhost:8080/"
        },
        "id": "f_4wN3yKxuPf",
        "outputId": "0315ce1f-3595-4217-c7aa-6689e2e680ae"
      },
      "execution_count": 6,
      "outputs": [
        {
          "output_type": "stream",
          "name": "stdout",
          "text": [
            "      Age  Attrition BusinessTravel  DailyRate            Department  \\\n",
            "0      21        0.0  Travel_Rarely        391  Research_Development   \n",
            "21     19        0.0  Travel_Rarely       1181  Research_Development   \n",
            "42     45        0.0  Travel_Rarely        252  Research_Development   \n",
            "63     23        0.0  Travel_Rarely        373  Research_Development   \n",
            "84     30        1.0  Travel_Rarely        945                 Sales   \n",
            "...   ...        ...            ...        ...                   ...   \n",
            "1365   48        0.0  Travel_Rarely        715  Research_Development   \n",
            "1386   48        0.0  Travel_Rarely       1355  Research_Development   \n",
            "1407   50        0.0  Travel_Rarely        989  Research_Development   \n",
            "1428   50        0.0     Non-Travel        881  Research_Development   \n",
            "1449   52        0.0  Travel_Rarely        699  Research_Development   \n",
            "\n",
            "      DistanceFromHome      Education EducationField EnvironmentSatisfaction  \\\n",
            "0                   15        College  Life_Sciences                    High   \n",
            "21                   3  Below_College        Medical                  Medium   \n",
            "42                   2       Bachelor  Life_Sciences                  Medium   \n",
            "63                   1        College  Life_Sciences               Very_High   \n",
            "84                   9       Bachelor        Medical                  Medium   \n",
            "...                ...            ...            ...                     ...   \n",
            "1365                 1       Bachelor  Life_Sciences               Very_High   \n",
            "1386                 4         Master  Life_Sciences                    High   \n",
            "1407                 7        College        Medical                  Medium   \n",
            "1428                 2         Master  Life_Sciences                     Low   \n",
            "1449                 1         Master  Life_Sciences                    High   \n",
            "\n",
            "      Gender  ...  PerformanceRating RelationshipSatisfaction  \\\n",
            "0       Male  ...          Excellent                Very_High   \n",
            "21    Female  ...          Excellent                Very_High   \n",
            "42    Female  ...          Excellent                Very_High   \n",
            "63      Male  ...        Outstanding                Very_High   \n",
            "84      Male  ...          Excellent                     High   \n",
            "...      ...  ...                ...                      ...   \n",
            "1365    Male  ...          Excellent                     High   \n",
            "1386    Male  ...          Excellent                   Medium   \n",
            "1407  Female  ...          Excellent                Very_High   \n",
            "1428    Male  ...          Excellent                Very_High   \n",
            "1449    Male  ...          Excellent                      Low   \n",
            "\n",
            "      StockOptionLevel TotalWorkingYears TrainingTimesLastYear  \\\n",
            "0                    0                 0                     6   \n",
            "21                   0                 1                     3   \n",
            "42                   0                 1                     3   \n",
            "63                   1                 1                     2   \n",
            "84                   0                 1                     3   \n",
            "...                ...               ...                   ...   \n",
            "1365                 0                25                     3   \n",
            "1386                 0                27                     3   \n",
            "1407                 1                29                     2   \n",
            "1428                 1                31                     3   \n",
            "1449                 1                34                     5   \n",
            "\n",
            "     WorkLifeBalance  YearsAtCompany  YearsInCurrentRole  \\\n",
            "0             Better               0                   0   \n",
            "21            Better               1                   0   \n",
            "42            Better               1                   0   \n",
            "63            Better               1                   0   \n",
            "84              Good               1                   0   \n",
            "...              ...             ...                 ...   \n",
            "1365            Best               1                   0   \n",
            "1386          Better              15                  11   \n",
            "1407            Good              27                   3   \n",
            "1428          Better              31                   6   \n",
            "1449          Better              33                  18   \n",
            "\n",
            "      YearsSinceLastPromotion YearsWithCurrManager  \n",
            "0                           0                    0  \n",
            "21                          0                    0  \n",
            "42                          0                    0  \n",
            "63                          0                    1  \n",
            "84                          0                    0  \n",
            "...                       ...                  ...  \n",
            "1365                        0                    0  \n",
            "1386                        4                    8  \n",
            "1407                       13                    8  \n",
            "1428                       14                    7  \n",
            "1449                       11                    9  \n",
            "\n",
            "[70 rows x 31 columns]\n"
          ]
        }
      ]
    },
    {
      "cell_type": "code",
      "source": [
        "# # Set the sample size to 70\n",
        "# sample_size = 70\n",
        "\n",
        "# # Calculate the population size from attrition_pop\n",
        "# pop_size = len(attrition_pop)\n",
        "\n",
        "# # Calculate the interval\n",
        "# interval = pop_size // sample_size\n",
        "\n",
        "# # Generate indices and select rows\n",
        "# indices = np.arange(0, pop_size, interval)\n",
        "# attrition_sys_samp = attrition_pop.iloc[indices]"
      ],
      "metadata": {
        "id": "OVsfWJXR-m3d"
      },
      "execution_count": null,
      "outputs": []
    },
    {
      "cell_type": "markdown",
      "source": [
        "## Exercise - Is systematic sampling OK?\n",
        "\n",
        "While **systematic sampling** is a useful technique, it can introduce bias if the dataset is **sorted** or follows a **pattern**. If there is a structure in the row order, sampling at fixed intervals might not give a representative view of the population.\n",
        "\n",
        "To check for such issues, you can visualize how a key variable changes with the row order. In this case, you'll look at how `YearsAtCompany` varies with the index.\n",
        "\n"
      ],
      "metadata": {
        "id": "oxQafBf8AfUv"
      }
    },
    {
      "cell_type": "markdown",
      "source": [
        "### Instructions 1/3\n",
        "\n",
        "1. Add a new column named `index` to the `attrition_pop` DataFrame to track the original row positions. Save the result as `attrition_pop_id`.\n",
        "2. Use a **scatter plot** `.plot()` to visualize the relationship between `YearsAtCompany` and the new `index` column. This will help identify if there's any visible pattern in the data order.\n",
        "\n",
        "```python\n",
        "# Step 1: Add index column\n",
        "attrition_pop_id = attrition_pop.copy()\n",
        "attrition_pop_id['index'] = attrition_pop.index\n",
        "\n",
        "# Step 2: Plot YearsAtCompany vs index\n",
        "attrition_pop_id.plot(x='index', y='YearsAtCompany', kind='scatter')\n",
        "plt.show()\n",
        "```"
      ],
      "metadata": {
        "id": "pkwv5TbbBEq2"
      }
    },
    {
      "cell_type": "code",
      "source": [
        "# Add an index column to attrition_pop\n",
        "attrition_pop_id = attrition_pop.reset_index()\n",
        "\n",
        "# Plot YearsAtCompany vs. index for attrition_pop_id\n",
        "attrition_pop_id.plot(x=\"index\", y=\"YearsAtCompany\", kind=\"scatter\")\n",
        "plt.show()"
      ],
      "metadata": {
        "colab": {
          "base_uri": "https://localhost:8080/",
          "height": 449
        },
        "id": "oKqVrIQn_3Bb",
        "outputId": "6cb86ef0-910b-47eb-a1cb-c248a2efe2e5"
      },
      "execution_count": 12,
      "outputs": [
        {
          "output_type": "display_data",
          "data": {
            "text/plain": [
              "<Figure size 640x480 with 1 Axes>"
            ],
            "image/png": "[encoded data removed]"
          },
          "metadata": {}
        }
      ]
    },
    {
      "cell_type": "markdown",
      "source": [
        "### ✅ Which one to use? `reset_index()` or `.index`\n",
        "\n",
        "* If your index is meaningful (e.g., Employee IDs), use `reset_index()`.\n",
        "\n",
        "* If you just need the current index for plotting but don’t want to alter the structure, use `attrition_pop.index`."
      ],
      "metadata": {
        "id": "z6W0kmxbFMhj"
      }
    },
    {
      "cell_type": "markdown",
      "source": [
        "### Instructions 2/3 - Shuffle and re-plot\n",
        "\n",
        "To determine whether **systematic sampling** introduces bias due to row order, you'll now **randomly shuffle** the dataset and compare the new scatter plot to the previous one.\n",
        "\n",
        "---\n",
        "\n",
        "**Steps:**\n",
        "\n",
        "1. Randomly shuffle the rows of `attrition_pop` using `.sample(frac=1)`.\n",
        "2. Reset the index of the shuffled DataFrame to ensure clean indexing.\n",
        "3. Add an `index` column to the shuffled DataFrame for plotting.\n",
        "4. Create a scatter plot of `YearsAtCompany` vs. the new index.\n"
      ],
      "metadata": {
        "id": "pAJtxkUGD4EA"
      }
    },
    {
      "cell_type": "code",
      "source": [
        "# Shuffle the rows of attrition_pop\n",
        "attrition_shuffled = attrition_pop.sample(frac=1)"
      ],
      "metadata": {
        "id": "TXic8nYOHjtF"
      },
      "execution_count": 9,
      "outputs": []
    },
    {
      "cell_type": "code",
      "source": [
        "# Reset the row indexes and create an index column\n",
        "attrition_shuffled = attrition_shuffled.reset_index(drop=True).reset_index()"
      ],
      "metadata": {
        "id": "-HlVsa1xHoyH"
      },
      "execution_count": 10,
      "outputs": []
    },
    {
      "cell_type": "code",
      "source": [
        "# Plot YearsAtCompany vs. index for attrition_shuffled\n",
        "attrition_shuffled.plot(x=\"index\", y=\"YearsAtCompany\", kind=\"scatter\")\n",
        "plt.show()"
      ],
      "metadata": {
        "colab": {
          "base_uri": "https://localhost:8080/",
          "height": 449
        },
        "id": "NulDjtCnHrFb",
        "outputId": "25c21d6b-a14a-40a6-8177-308a25c531fa"
      },
      "execution_count": 11,
      "outputs": [
        {
          "output_type": "display_data",
          "data": {
            "text/plain": [
              "<Figure size 640x480 with 1 Axes>"
            ],
            "image/png": "[encoded data removed]"
          },
          "metadata": {}
        }
      ]
    },
    {
      "cell_type": "markdown",
      "source": [
        "### Instructions (3/3) - Question\n",
        "\n",
        "Does a systematic sample always produce a sample similar to a simple random sample?\n",
        "\n",
        "---\n",
        "\n",
        "**Possible answers**\n",
        "\n",
        "- Yes. All sampling (random or non-random) methods will lead us to similar results.  \n",
        "- Yes. We should always expect a representative sample for both systematic and simple random sampling.  \n",
        "- No. This only holds if a seed has been set for both processes.  \n",
        "- **No. This is not true if the data is sorted in some way.** ✅  \n"
      ],
      "metadata": {
        "id": "6wiKzg2cIMXW"
      }
    },
    {
      "cell_type": "markdown",
      "source": [
        "## Well done! 🎉\n",
        "\n",
        "You've just learned that **systematic sampling** can be problematic **when the dataset is sorted or contains a pattern**. In such cases, the sample may not be representative of the population.\n",
        "\n",
        "👉 Key takeaway:  \n",
        "\n",
        "To avoid bias, **shuffle the data** before applying systematic sampling. Once shuffled, **systematic sampling behaves just like simple random sampling**.\n",
        "\n",
        "Keep up the great work — your sampling skills are solid! 💪"
      ],
      "metadata": {
        "id": "crmJpDfzIt-A"
      }
    },
    {
      "cell_type": "markdown",
      "source": [
        "### Big question\n",
        "\n",
        ">How to shuffled?\n",
        "  * using `.sample(frac=1)` method:\n",
        "    * `frac` stands for \"fraction\".\n",
        "    * `frac=1` means you're sampling 100% of the data — all the rows — but in random order.\n",
        "    * It's the standard way to shuffle a DataFrame.\n",
        "\n",
        "\n",
        "\n",
        ">How shuffled works?\n",
        "\n",
        ">What happend after Shuffeld?"
      ],
      "metadata": {
        "id": "fD7BPeo5EEh4"
      }
    },
    {
      "cell_type": "markdown",
      "source": [
        "## Stratified and weighted random sampling\n"
      ],
      "metadata": {
        "id": "C9o_yLEEJOBv"
      }
    },
    {
      "cell_type": "code",
      "source": [],
      "metadata": {
        "id": "3qlCDS--D7iC"
      },
      "execution_count": null,
      "outputs": []
    }
  ]
}