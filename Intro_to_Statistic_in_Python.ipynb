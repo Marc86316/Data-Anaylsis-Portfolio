{
  "nbformat": 4,
  "nbformat_minor": 0,
  "metadata": {
    "colab": {
      "provenance": [],
      "authorship_tag": "ABX9TyN2famrPJ84PeHtChJuMtdl",
      "include_colab_link": true
    },
    "kernelspec": {
      "name": "python3",
      "display_name": "Python 3"
    },
    "language_info": {
      "name": "python"
    }
  },
  "cells": [
    {
      "cell_type": "markdown",
      "metadata": {
        "id": "view-in-github",
        "colab_type": "text"
      },
      "source": [
        "<a href=\"https://colab.research.google.com/github/Marc86316/DataCamp/blob/main/Intro_to_Statistic_in_Python.ipynb\" target=\"_parent\"><img src=\"https://colab.research.google.com/assets/colab-badge.svg\" alt=\"Open In Colab\"/></a>"
      ]
    },
    {
      "cell_type": "markdown",
      "source": [
        "**Creating a probability distribution**\n",
        "\n",
        "---\n",
        "\n",
        "\n",
        "A new restaurant opened a few months ago, and the restaurant's management wants to optimize its seating space based on the size of the groups that come most often. On one night, there are 10 groups of people waiting to be seated at the restaurant, but instead of being called in the order they arrived, they will be called randomly. In this exercise, you'll investigate the probability of groups of different sizes getting picked first. Data on each of the ten groups is contained in the restaurant_groups DataFrame.\n",
        "\n",
        "\n",
        "---\n",
        "\n",
        "\n",
        "Remember that expected value can be calculated by multiplying each possible outcome with its corresponding probability and taking the sum. The restaurant_groups data is available. `pandas `is loaded as `pd`, `numpy` is loaded as `np`, and `matplotlib.pyplot` is loaded as `plt`."
      ],
      "metadata": {
        "id": "QOtbEr0Ygpj2"
      }
    },
    {
      "cell_type": "code",
      "source": [
        "# Importing numpy and pandas\n",
        "import numpy as np\n",
        "import pandas as pd\n",
        "\n",
        "# Importing the course datasets from github\n",
        "# paste Raw URL from github\n",
        "deals_url = \"https://raw.githubusercontent.com/Marc86316/DataCamp/refs/heads/main/dataset/amir_deals.csv\"\n",
        "happiness_url = \"https://raw.githubusercontent.com/Marc86316/DataCamp/refs/heads/main/dataset/world_happiness.csv\"\n",
        "food_url = \"https://raw.githubusercontent.com/Marc86316/DataCamp/refs/heads/main/dataset/food_consumption.csv\"\n",
        "\n",
        "deals = pd.read_csv(deals_url)\n",
        "happiness = pd.read_csv(happiness_url)\n",
        "food = pd.read_csv(food_url)"
      ],
      "metadata": {
        "id": "HYql9A2Qdtos"
      },
      "execution_count": 8,
      "outputs": []
    },
    {
      "cell_type": "code",
      "source": [],
      "metadata": {
        "id": "yeSEPVtni_rQ"
      },
      "execution_count": null,
      "outputs": []
    }
  ]
}