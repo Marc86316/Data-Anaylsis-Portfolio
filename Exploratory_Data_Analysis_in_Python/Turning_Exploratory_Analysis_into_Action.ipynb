{
  "nbformat": 4,
  "nbformat_minor": 0,
  "metadata": {
    "colab": {
      "provenance": [],
      "authorship_tag": "ABX9TyPoM7Pu5IZPRakryeYvnSpb",
      "include_colab_link": true
    },
    "kernelspec": {
      "name": "python3",
      "display_name": "Python 3"
    },
    "language_info": {
      "name": "python"
    }
  },
  "cells": [
    {
      "cell_type": "markdown",
      "metadata": {
        "id": "view-in-github",
        "colab_type": "text"
      },
      "source": [
        "<a href=\"https://colab.research.google.com/github/Marc86316/DataCamp/blob/main/Exploratory_Data_Analysis_in_Python/Turning_Exploratory_Analysis_into_Action.ipynb\" target=\"_parent\"><img src=\"https://colab.research.google.com/assets/colab-badge.svg\" alt=\"Open In Colab\"/></a>"
      ]
    },
    {
      "cell_type": "markdown",
      "source": [
        "# **Turning Exploratory Analysis into Action**\n",
        "\n",
        "Exploratory data analysis is a crucial step in the data science workflow, but it isn't the end! Now it's time to learn techniques and considerations you can use to successfully move forward with your projects after you've finished exploring!"
      ],
      "metadata": {
        "id": "IHCm9mX1_5nq"
      }
    },
    {
      "cell_type": "markdown",
      "source": [
        "## Import data and libaries"
      ],
      "metadata": {
        "id": "7-OHlMdDYyl3"
      }
    },
    {
      "cell_type": "code",
      "source": [
        "import pandas as pd\n",
        "import numpy as np\n",
        "import seaborn as sns\n",
        "import matplotlib.pyplot as plt\n",
        "\n",
        "ds_salaries_clean_url = 'https://raw.githubusercontent.com/Marc86316/DataCamp/refs/heads/main/dataset/Exploratory_Data_Analysis_in_Python/ds_salaries_clean.csv'\n",
        "ds_salaries_clean = pd.read_csv(ds_salaries_clean_url)\n",
        "ds_salaries_clean.head()"
      ],
      "metadata": {
        "colab": {
          "base_uri": "https://localhost:8080/",
          "height": 330
        },
        "id": "t0UnVpdt_-G0",
        "outputId": "d34ff602-e1e5-4bc9-a364-6ffb16434718"
      },
      "execution_count": 5,
      "outputs": [
        {
          "output_type": "execute_result",
          "data": {
            "text/plain": [
              "   Working_Year                 Designation Experience Employment_Status  \\\n",
              "0          2020              Data Scientist        Mid                FT   \n",
              "1          2020  Machine Learning Scientist     Senior                FT   \n",
              "2          2020           Big Data Engineer     Senior                FT   \n",
              "3          2020        Product Data Analyst        Mid                FT   \n",
              "4          2020   Machine Learning Engineer     Senior                FT   \n",
              "\n",
              "  Employee_Location Company_Size  Remote_Working_Ratio  Salary_USD  \n",
              "0                DE            L                     0     76227.0  \n",
              "1                JP            S                     0    248257.0  \n",
              "2                GB            M                    50    104100.0  \n",
              "3                HN            S                     0     19097.0  \n",
              "4                US            L                    50    143225.0  "
            ],
            "text/html": [
              "\n",
              "  <div id=\"df-d9d4104b-8c31-474d-bc1a-296b3fb17783\" class=\"colab-df-container\">\n",
              "    <div>\n",
              "<style scoped>\n",
              "    .dataframe tbody tr th:only-of-type {\n",
              "        vertical-align: middle;\n",
              "    }\n",
              "\n",
              "    .dataframe tbody tr th {\n",
              "        vertical-align: top;\n",
              "    }\n",
              "\n",
              "    .dataframe thead th {\n",
              "        text-align: right;\n",
              "    }\n",
              "</style>\n",
              "<table border=\"1\" class=\"dataframe\">\n",
              "  <thead>\n",
              "    <tr style=\"text-align: right;\">\n",
              "      <th></th>\n",
              "      <th>Working_Year</th>\n",
              "      <th>Designation</th>\n",
              "      <th>Experience</th>\n",
              "      <th>Employment_Status</th>\n",
              "      <th>Employee_Location</th>\n",
              "      <th>Company_Size</th>\n",
              "      <th>Remote_Working_Ratio</th>\n",
              "      <th>Salary_USD</th>\n",
              "    </tr>\n",
              "  </thead>\n",
              "  <tbody>\n",
              "    <tr>\n",
              "      <th>0</th>\n",
              "      <td>2020</td>\n",
              "      <td>Data Scientist</td>\n",
              "      <td>Mid</td>\n",
              "      <td>FT</td>\n",
              "      <td>DE</td>\n",
              "      <td>L</td>\n",
              "      <td>0</td>\n",
              "      <td>76227.0</td>\n",
              "    </tr>\n",
              "    <tr>\n",
              "      <th>1</th>\n",
              "      <td>2020</td>\n",
              "      <td>Machine Learning Scientist</td>\n",
              "      <td>Senior</td>\n",
              "      <td>FT</td>\n",
              "      <td>JP</td>\n",
              "      <td>S</td>\n",
              "      <td>0</td>\n",
              "      <td>248257.0</td>\n",
              "    </tr>\n",
              "    <tr>\n",
              "      <th>2</th>\n",
              "      <td>2020</td>\n",
              "      <td>Big Data Engineer</td>\n",
              "      <td>Senior</td>\n",
              "      <td>FT</td>\n",
              "      <td>GB</td>\n",
              "      <td>M</td>\n",
              "      <td>50</td>\n",
              "      <td>104100.0</td>\n",
              "    </tr>\n",
              "    <tr>\n",
              "      <th>3</th>\n",
              "      <td>2020</td>\n",
              "      <td>Product Data Analyst</td>\n",
              "      <td>Mid</td>\n",
              "      <td>FT</td>\n",
              "      <td>HN</td>\n",
              "      <td>S</td>\n",
              "      <td>0</td>\n",
              "      <td>19097.0</td>\n",
              "    </tr>\n",
              "    <tr>\n",
              "      <th>4</th>\n",
              "      <td>2020</td>\n",
              "      <td>Machine Learning Engineer</td>\n",
              "      <td>Senior</td>\n",
              "      <td>FT</td>\n",
              "      <td>US</td>\n",
              "      <td>L</td>\n",
              "      <td>50</td>\n",
              "      <td>143225.0</td>\n",
              "    </tr>\n",
              "  </tbody>\n",
              "</table>\n",
              "</div>\n",
              "    <div class=\"colab-df-buttons\">\n",
              "\n",
              "  <div class=\"colab-df-container\">\n",
              "    <button class=\"colab-df-convert\" onclick=\"convertToInteractive('df-d9d4104b-8c31-474d-bc1a-296b3fb17783')\"\n",
              "            title=\"Convert this dataframe to an interactive table.\"\n",
              "            style=\"display:none;\">\n",
              "\n",
              "  <svg xmlns=\"http://www.w3.org/2000/svg\" height=\"24px\" viewBox=\"0 -960 960 960\">\n",
              "    <path d=\"M120-120v-720h720v720H120Zm60-500h600v-160H180v160Zm220 220h160v-160H400v160Zm0 220h160v-160H400v160ZM180-400h160v-160H180v160Zm440 0h160v-160H620v160ZM180-180h160v-160H180v160Zm440 0h160v-160H620v160Z\"/>\n",
              "  </svg>\n",
              "    </button>\n",
              "\n",
              "  <style>\n",
              "    .colab-df-container {\n",
              "      display:flex;\n",
              "      gap: 12px;\n",
              "    }\n",
              "\n",
              "    .colab-df-convert {\n",
              "      background-color: #E8F0FE;\n",
              "      border: none;\n",
              "      border-radius: 50%;\n",
              "      cursor: pointer;\n",
              "      display: none;\n",
              "      fill: #1967D2;\n",
              "      height: 32px;\n",
              "      padding: 0 0 0 0;\n",
              "      width: 32px;\n",
              "    }\n",
              "\n",
              "    .colab-df-convert:hover {\n",
              "      background-color: #E2EBFA;\n",
              "      box-shadow: 0px 1px 2px rgba(60, 64, 67, 0.3), 0px 1px 3px 1px rgba(60, 64, 67, 0.15);\n",
              "      fill: #174EA6;\n",
              "    }\n",
              "\n",
              "    .colab-df-buttons div {\n",
              "      margin-bottom: 4px;\n",
              "    }\n",
              "\n",
              "    [theme=dark] .colab-df-convert {\n",
              "      background-color: #3B4455;\n",
              "      fill: #D2E3FC;\n",
              "    }\n",
              "\n",
              "    [theme=dark] .colab-df-convert:hover {\n",
              "      background-color: #434B5C;\n",
              "      box-shadow: 0px 1px 3px 1px rgba(0, 0, 0, 0.15);\n",
              "      filter: drop-shadow(0px 1px 2px rgba(0, 0, 0, 0.3));\n",
              "      fill: #FFFFFF;\n",
              "    }\n",
              "  </style>\n",
              "\n",
              "    <script>\n",
              "      const buttonEl =\n",
              "        document.querySelector('#df-d9d4104b-8c31-474d-bc1a-296b3fb17783 button.colab-df-convert');\n",
              "      buttonEl.style.display =\n",
              "        google.colab.kernel.accessAllowed ? 'block' : 'none';\n",
              "\n",
              "      async function convertToInteractive(key) {\n",
              "        const element = document.querySelector('#df-d9d4104b-8c31-474d-bc1a-296b3fb17783');\n",
              "        const dataTable =\n",
              "          await google.colab.kernel.invokeFunction('convertToInteractive',\n",
              "                                                    [key], {});\n",
              "        if (!dataTable) return;\n",
              "\n",
              "        const docLinkHtml = 'Like what you see? Visit the ' +\n",
              "          '<a target=\"_blank\" href=https://colab.research.google.com/notebooks/data_table.ipynb>data table notebook</a>'\n",
              "          + ' to learn more about interactive tables.';\n",
              "        element.innerHTML = '';\n",
              "        dataTable['output_type'] = 'display_data';\n",
              "        await google.colab.output.renderOutput(dataTable, element);\n",
              "        const docLink = document.createElement('div');\n",
              "        docLink.innerHTML = docLinkHtml;\n",
              "        element.appendChild(docLink);\n",
              "      }\n",
              "    </script>\n",
              "  </div>\n",
              "\n",
              "\n",
              "<div id=\"df-82a7123c-421a-4c8f-b415-e01af9f45c11\">\n",
              "  <button class=\"colab-df-quickchart\" onclick=\"quickchart('df-82a7123c-421a-4c8f-b415-e01af9f45c11')\"\n",
              "            title=\"Suggest charts\"\n",
              "            style=\"display:none;\">\n",
              "\n",
              "<svg xmlns=\"http://www.w3.org/2000/svg\" height=\"24px\"viewBox=\"0 0 24 24\"\n",
              "     width=\"24px\">\n",
              "    <g>\n",
              "        <path d=\"M19 3H5c-1.1 0-2 .9-2 2v14c0 1.1.9 2 2 2h14c1.1 0 2-.9 2-2V5c0-1.1-.9-2-2-2zM9 17H7v-7h2v7zm4 0h-2V7h2v10zm4 0h-2v-4h2v4z\"/>\n",
              "    </g>\n",
              "</svg>\n",
              "  </button>\n",
              "\n",
              "<style>\n",
              "  .colab-df-quickchart {\n",
              "      --bg-color: #E8F0FE;\n",
              "      --fill-color: #1967D2;\n",
              "      --hover-bg-color: #E2EBFA;\n",
              "      --hover-fill-color: #174EA6;\n",
              "      --disabled-fill-color: #AAA;\n",
              "      --disabled-bg-color: #DDD;\n",
              "  }\n",
              "\n",
              "  [theme=dark] .colab-df-quickchart {\n",
              "      --bg-color: #3B4455;\n",
              "      --fill-color: #D2E3FC;\n",
              "      --hover-bg-color: #434B5C;\n",
              "      --hover-fill-color: #FFFFFF;\n",
              "      --disabled-bg-color: #3B4455;\n",
              "      --disabled-fill-color: #666;\n",
              "  }\n",
              "\n",
              "  .colab-df-quickchart {\n",
              "    background-color: var(--bg-color);\n",
              "    border: none;\n",
              "    border-radius: 50%;\n",
              "    cursor: pointer;\n",
              "    display: none;\n",
              "    fill: var(--fill-color);\n",
              "    height: 32px;\n",
              "    padding: 0;\n",
              "    width: 32px;\n",
              "  }\n",
              "\n",
              "  .colab-df-quickchart:hover {\n",
              "    background-color: var(--hover-bg-color);\n",
              "    box-shadow: 0 1px 2px rgba(60, 64, 67, 0.3), 0 1px 3px 1px rgba(60, 64, 67, 0.15);\n",
              "    fill: var(--button-hover-fill-color);\n",
              "  }\n",
              "\n",
              "  .colab-df-quickchart-complete:disabled,\n",
              "  .colab-df-quickchart-complete:disabled:hover {\n",
              "    background-color: var(--disabled-bg-color);\n",
              "    fill: var(--disabled-fill-color);\n",
              "    box-shadow: none;\n",
              "  }\n",
              "\n",
              "  .colab-df-spinner {\n",
              "    border: 2px solid var(--fill-color);\n",
              "    border-color: transparent;\n",
              "    border-bottom-color: var(--fill-color);\n",
              "    animation:\n",
              "      spin 1s steps(1) infinite;\n",
              "  }\n",
              "\n",
              "  @keyframes spin {\n",
              "    0% {\n",
              "      border-color: transparent;\n",
              "      border-bottom-color: var(--fill-color);\n",
              "      border-left-color: var(--fill-color);\n",
              "    }\n",
              "    20% {\n",
              "      border-color: transparent;\n",
              "      border-left-color: var(--fill-color);\n",
              "      border-top-color: var(--fill-color);\n",
              "    }\n",
              "    30% {\n",
              "      border-color: transparent;\n",
              "      border-left-color: var(--fill-color);\n",
              "      border-top-color: var(--fill-color);\n",
              "      border-right-color: var(--fill-color);\n",
              "    }\n",
              "    40% {\n",
              "      border-color: transparent;\n",
              "      border-right-color: var(--fill-color);\n",
              "      border-top-color: var(--fill-color);\n",
              "    }\n",
              "    60% {\n",
              "      border-color: transparent;\n",
              "      border-right-color: var(--fill-color);\n",
              "    }\n",
              "    80% {\n",
              "      border-color: transparent;\n",
              "      border-right-color: var(--fill-color);\n",
              "      border-bottom-color: var(--fill-color);\n",
              "    }\n",
              "    90% {\n",
              "      border-color: transparent;\n",
              "      border-bottom-color: var(--fill-color);\n",
              "    }\n",
              "  }\n",
              "</style>\n",
              "\n",
              "  <script>\n",
              "    async function quickchart(key) {\n",
              "      const quickchartButtonEl =\n",
              "        document.querySelector('#' + key + ' button');\n",
              "      quickchartButtonEl.disabled = true;  // To prevent multiple clicks.\n",
              "      quickchartButtonEl.classList.add('colab-df-spinner');\n",
              "      try {\n",
              "        const charts = await google.colab.kernel.invokeFunction(\n",
              "            'suggestCharts', [key], {});\n",
              "      } catch (error) {\n",
              "        console.error('Error during call to suggestCharts:', error);\n",
              "      }\n",
              "      quickchartButtonEl.classList.remove('colab-df-spinner');\n",
              "      quickchartButtonEl.classList.add('colab-df-quickchart-complete');\n",
              "    }\n",
              "    (() => {\n",
              "      let quickchartButtonEl =\n",
              "        document.querySelector('#df-82a7123c-421a-4c8f-b415-e01af9f45c11 button');\n",
              "      quickchartButtonEl.style.display =\n",
              "        google.colab.kernel.accessAllowed ? 'block' : 'none';\n",
              "    })();\n",
              "  </script>\n",
              "</div>\n",
              "\n",
              "    </div>\n",
              "  </div>\n"
            ],
            "application/vnd.google.colaboratory.intrinsic+json": {
              "type": "dataframe",
              "variable_name": "ds_salaries_clean",
              "summary": "{\n  \"name\": \"ds_salaries_clean\",\n  \"rows\": 607,\n  \"fields\": [\n    {\n      \"column\": \"Working_Year\",\n      \"properties\": {\n        \"dtype\": \"number\",\n        \"std\": 0,\n        \"min\": 2020,\n        \"max\": 2022,\n        \"num_unique_values\": 3,\n        \"samples\": [\n          2020,\n          2021,\n          2022\n        ],\n        \"semantic_type\": \"\",\n        \"description\": \"\"\n      }\n    },\n    {\n      \"column\": \"Designation\",\n      \"properties\": {\n        \"dtype\": \"category\",\n        \"num_unique_values\": 50,\n        \"samples\": [\n          \"Director of Data Science\",\n          \"Data Architect\",\n          \"Computer Vision Software Engineer\"\n        ],\n        \"semantic_type\": \"\",\n        \"description\": \"\"\n      }\n    },\n    {\n      \"column\": \"Experience\",\n      \"properties\": {\n        \"dtype\": \"category\",\n        \"num_unique_values\": 4,\n        \"samples\": [\n          \"Senior\",\n          \"Executive\",\n          \"Mid\"\n        ],\n        \"semantic_type\": \"\",\n        \"description\": \"\"\n      }\n    },\n    {\n      \"column\": \"Employment_Status\",\n      \"properties\": {\n        \"dtype\": \"category\",\n        \"num_unique_values\": 4,\n        \"samples\": [\n          \"CT\",\n          \"FL\",\n          \"FT\"\n        ],\n        \"semantic_type\": \"\",\n        \"description\": \"\"\n      }\n    },\n    {\n      \"column\": \"Employee_Location\",\n      \"properties\": {\n        \"dtype\": \"category\",\n        \"num_unique_values\": 57,\n        \"samples\": [\n          \"DE\",\n          \"HU\",\n          \"VN\"\n        ],\n        \"semantic_type\": \"\",\n        \"description\": \"\"\n      }\n    },\n    {\n      \"column\": \"Company_Size\",\n      \"properties\": {\n        \"dtype\": \"category\",\n        \"num_unique_values\": 3,\n        \"samples\": [\n          \"L\",\n          \"S\",\n          \"M\"\n        ],\n        \"semantic_type\": \"\",\n        \"description\": \"\"\n      }\n    },\n    {\n      \"column\": \"Remote_Working_Ratio\",\n      \"properties\": {\n        \"dtype\": \"number\",\n        \"std\": 40,\n        \"min\": 0,\n        \"max\": 100,\n        \"num_unique_values\": 3,\n        \"samples\": [\n          0,\n          50,\n          100\n        ],\n        \"semantic_type\": \"\",\n        \"description\": \"\"\n      }\n    },\n    {\n      \"column\": \"Salary_USD\",\n      \"properties\": {\n        \"dtype\": \"number\",\n        \"std\": 67752.39325446505,\n        \"min\": 2730.0,\n        \"max\": 572900.0,\n        \"num_unique_values\": 369,\n        \"samples\": [\n          61920.0,\n          429675.0,\n          7639.0\n        ],\n        \"semantic_type\": \"\",\n        \"description\": \"\"\n      }\n    }\n  ]\n}"
            }
          },
          "metadata": {},
          "execution_count": 5
        }
      ]
    },
    {
      "cell_type": "code",
      "source": [
        "# Check and remove the \"Unnamed: 0\" column if it exists\n",
        "if \"Unnamed: 0\" in ds_salaries_clean.columns:\n",
        "    ds_salaries_clean = ds_salaries_clean.drop(columns=[\"Unnamed: 0\"])\n",
        "\n",
        "# Reset the index to be 0 to N (optional, if needed)\n",
        "ds_salaries_clean.reset_index(drop=True, inplace=True)\n",
        "\n",
        "# Now df has a clean index and no extra \"Unnamed\" column"
      ],
      "metadata": {
        "id": "--Tpsz6dOA6m"
      },
      "execution_count": 6,
      "outputs": []
    },
    {
      "cell_type": "code",
      "source": [
        "import pandas as pd\n",
        "import numpy as np\n",
        "\n",
        "salaries_url = 'https://raw.githubusercontent.com/Marc86316/DataCamp/refs/heads/main/dataset/Exploratory_Data_Analysis_in_Python/salaries.csv'\n",
        "salaries = pd.read_csv(salaries_url)\n",
        "salaries.head()"
      ],
      "metadata": {
        "colab": {
          "base_uri": "https://localhost:8080/",
          "height": 348
        },
        "id": "juEQaCCeMOfQ",
        "outputId": "822fc90f-ecf1-4e6b-cae0-5db40991b7d2"
      },
      "execution_count": 7,
      "outputs": [
        {
          "output_type": "execute_result",
          "data": {
            "text/plain": [
              "   Unnamed: 0  Working_Year                 Designation Experience  \\\n",
              "0           0          2020  Machine Learning Scientist         SE   \n",
              "1           1          2020           Big Data Engineer         SE   \n",
              "2           2          2020        Product Data Analyst         MI   \n",
              "3           3          2020   Machine Learning Engineer         SE   \n",
              "4           4          2020                Data Analyst         EN   \n",
              "\n",
              "  Employment_Status  Salary_In_Rupees Employee_Location Company_Location  \\\n",
              "0                FT        20688070.0                JP               JP   \n",
              "1                FT         8674985.0                GB               GB   \n",
              "2                FT         1591390.0                HN               HN   \n",
              "3                FT        11935425.0                US               US   \n",
              "4                FT         5729004.0                US               US   \n",
              "\n",
              "  Company_Size  Remote_Working_Ratio  Salary_USD      Job_Category  \n",
              "0            S                   0.0  248256.840  Machine Learning  \n",
              "1            M                  50.0  104099.820  Data Engineering  \n",
              "2            S                   0.0   19096.680    Data Analytics  \n",
              "3            L                  50.0  143225.100  Machine Learning  \n",
              "4            L                 100.0   68748.048    Data Analytics  "
            ],
            "text/html": [
              "\n",
              "  <div id=\"df-1df414ae-eb05-4bd3-a828-d1ba24d75ab4\" class=\"colab-df-container\">\n",
              "    <div>\n",
              "<style scoped>\n",
              "    .dataframe tbody tr th:only-of-type {\n",
              "        vertical-align: middle;\n",
              "    }\n",
              "\n",
              "    .dataframe tbody tr th {\n",
              "        vertical-align: top;\n",
              "    }\n",
              "\n",
              "    .dataframe thead th {\n",
              "        text-align: right;\n",
              "    }\n",
              "</style>\n",
              "<table border=\"1\" class=\"dataframe\">\n",
              "  <thead>\n",
              "    <tr style=\"text-align: right;\">\n",
              "      <th></th>\n",
              "      <th>Unnamed: 0</th>\n",
              "      <th>Working_Year</th>\n",
              "      <th>Designation</th>\n",
              "      <th>Experience</th>\n",
              "      <th>Employment_Status</th>\n",
              "      <th>Salary_In_Rupees</th>\n",
              "      <th>Employee_Location</th>\n",
              "      <th>Company_Location</th>\n",
              "      <th>Company_Size</th>\n",
              "      <th>Remote_Working_Ratio</th>\n",
              "      <th>Salary_USD</th>\n",
              "      <th>Job_Category</th>\n",
              "    </tr>\n",
              "  </thead>\n",
              "  <tbody>\n",
              "    <tr>\n",
              "      <th>0</th>\n",
              "      <td>0</td>\n",
              "      <td>2020</td>\n",
              "      <td>Machine Learning Scientist</td>\n",
              "      <td>SE</td>\n",
              "      <td>FT</td>\n",
              "      <td>20688070.0</td>\n",
              "      <td>JP</td>\n",
              "      <td>JP</td>\n",
              "      <td>S</td>\n",
              "      <td>0.0</td>\n",
              "      <td>248256.840</td>\n",
              "      <td>Machine Learning</td>\n",
              "    </tr>\n",
              "    <tr>\n",
              "      <th>1</th>\n",
              "      <td>1</td>\n",
              "      <td>2020</td>\n",
              "      <td>Big Data Engineer</td>\n",
              "      <td>SE</td>\n",
              "      <td>FT</td>\n",
              "      <td>8674985.0</td>\n",
              "      <td>GB</td>\n",
              "      <td>GB</td>\n",
              "      <td>M</td>\n",
              "      <td>50.0</td>\n",
              "      <td>104099.820</td>\n",
              "      <td>Data Engineering</td>\n",
              "    </tr>\n",
              "    <tr>\n",
              "      <th>2</th>\n",
              "      <td>2</td>\n",
              "      <td>2020</td>\n",
              "      <td>Product Data Analyst</td>\n",
              "      <td>MI</td>\n",
              "      <td>FT</td>\n",
              "      <td>1591390.0</td>\n",
              "      <td>HN</td>\n",
              "      <td>HN</td>\n",
              "      <td>S</td>\n",
              "      <td>0.0</td>\n",
              "      <td>19096.680</td>\n",
              "      <td>Data Analytics</td>\n",
              "    </tr>\n",
              "    <tr>\n",
              "      <th>3</th>\n",
              "      <td>3</td>\n",
              "      <td>2020</td>\n",
              "      <td>Machine Learning Engineer</td>\n",
              "      <td>SE</td>\n",
              "      <td>FT</td>\n",
              "      <td>11935425.0</td>\n",
              "      <td>US</td>\n",
              "      <td>US</td>\n",
              "      <td>L</td>\n",
              "      <td>50.0</td>\n",
              "      <td>143225.100</td>\n",
              "      <td>Machine Learning</td>\n",
              "    </tr>\n",
              "    <tr>\n",
              "      <th>4</th>\n",
              "      <td>4</td>\n",
              "      <td>2020</td>\n",
              "      <td>Data Analyst</td>\n",
              "      <td>EN</td>\n",
              "      <td>FT</td>\n",
              "      <td>5729004.0</td>\n",
              "      <td>US</td>\n",
              "      <td>US</td>\n",
              "      <td>L</td>\n",
              "      <td>100.0</td>\n",
              "      <td>68748.048</td>\n",
              "      <td>Data Analytics</td>\n",
              "    </tr>\n",
              "  </tbody>\n",
              "</table>\n",
              "</div>\n",
              "    <div class=\"colab-df-buttons\">\n",
              "\n",
              "  <div class=\"colab-df-container\">\n",
              "    <button class=\"colab-df-convert\" onclick=\"convertToInteractive('df-1df414ae-eb05-4bd3-a828-d1ba24d75ab4')\"\n",
              "            title=\"Convert this dataframe to an interactive table.\"\n",
              "            style=\"display:none;\">\n",
              "\n",
              "  <svg xmlns=\"http://www.w3.org/2000/svg\" height=\"24px\" viewBox=\"0 -960 960 960\">\n",
              "    <path d=\"M120-120v-720h720v720H120Zm60-500h600v-160H180v160Zm220 220h160v-160H400v160Zm0 220h160v-160H400v160ZM180-400h160v-160H180v160Zm440 0h160v-160H620v160ZM180-180h160v-160H180v160Zm440 0h160v-160H620v160Z\"/>\n",
              "  </svg>\n",
              "    </button>\n",
              "\n",
              "  <style>\n",
              "    .colab-df-container {\n",
              "      display:flex;\n",
              "      gap: 12px;\n",
              "    }\n",
              "\n",
              "    .colab-df-convert {\n",
              "      background-color: #E8F0FE;\n",
              "      border: none;\n",
              "      border-radius: 50%;\n",
              "      cursor: pointer;\n",
              "      display: none;\n",
              "      fill: #1967D2;\n",
              "      height: 32px;\n",
              "      padding: 0 0 0 0;\n",
              "      width: 32px;\n",
              "    }\n",
              "\n",
              "    .colab-df-convert:hover {\n",
              "      background-color: #E2EBFA;\n",
              "      box-shadow: 0px 1px 2px rgba(60, 64, 67, 0.3), 0px 1px 3px 1px rgba(60, 64, 67, 0.15);\n",
              "      fill: #174EA6;\n",
              "    }\n",
              "\n",
              "    .colab-df-buttons div {\n",
              "      margin-bottom: 4px;\n",
              "    }\n",
              "\n",
              "    [theme=dark] .colab-df-convert {\n",
              "      background-color: #3B4455;\n",
              "      fill: #D2E3FC;\n",
              "    }\n",
              "\n",
              "    [theme=dark] .colab-df-convert:hover {\n",
              "      background-color: #434B5C;\n",
              "      box-shadow: 0px 1px 3px 1px rgba(0, 0, 0, 0.15);\n",
              "      filter: drop-shadow(0px 1px 2px rgba(0, 0, 0, 0.3));\n",
              "      fill: #FFFFFF;\n",
              "    }\n",
              "  </style>\n",
              "\n",
              "    <script>\n",
              "      const buttonEl =\n",
              "        document.querySelector('#df-1df414ae-eb05-4bd3-a828-d1ba24d75ab4 button.colab-df-convert');\n",
              "      buttonEl.style.display =\n",
              "        google.colab.kernel.accessAllowed ? 'block' : 'none';\n",
              "\n",
              "      async function convertToInteractive(key) {\n",
              "        const element = document.querySelector('#df-1df414ae-eb05-4bd3-a828-d1ba24d75ab4');\n",
              "        const dataTable =\n",
              "          await google.colab.kernel.invokeFunction('convertToInteractive',\n",
              "                                                    [key], {});\n",
              "        if (!dataTable) return;\n",
              "\n",
              "        const docLinkHtml = 'Like what you see? Visit the ' +\n",
              "          '<a target=\"_blank\" href=https://colab.research.google.com/notebooks/data_table.ipynb>data table notebook</a>'\n",
              "          + ' to learn more about interactive tables.';\n",
              "        element.innerHTML = '';\n",
              "        dataTable['output_type'] = 'display_data';\n",
              "        await google.colab.output.renderOutput(dataTable, element);\n",
              "        const docLink = document.createElement('div');\n",
              "        docLink.innerHTML = docLinkHtml;\n",
              "        element.appendChild(docLink);\n",
              "      }\n",
              "    </script>\n",
              "  </div>\n",
              "\n",
              "\n",
              "<div id=\"df-6a12721c-f11e-492c-ac8d-1817d7dc4457\">\n",
              "  <button class=\"colab-df-quickchart\" onclick=\"quickchart('df-6a12721c-f11e-492c-ac8d-1817d7dc4457')\"\n",
              "            title=\"Suggest charts\"\n",
              "            style=\"display:none;\">\n",
              "\n",
              "<svg xmlns=\"http://www.w3.org/2000/svg\" height=\"24px\"viewBox=\"0 0 24 24\"\n",
              "     width=\"24px\">\n",
              "    <g>\n",
              "        <path d=\"M19 3H5c-1.1 0-2 .9-2 2v14c0 1.1.9 2 2 2h14c1.1 0 2-.9 2-2V5c0-1.1-.9-2-2-2zM9 17H7v-7h2v7zm4 0h-2V7h2v10zm4 0h-2v-4h2v4z\"/>\n",
              "    </g>\n",
              "</svg>\n",
              "  </button>\n",
              "\n",
              "<style>\n",
              "  .colab-df-quickchart {\n",
              "      --bg-color: #E8F0FE;\n",
              "      --fill-color: #1967D2;\n",
              "      --hover-bg-color: #E2EBFA;\n",
              "      --hover-fill-color: #174EA6;\n",
              "      --disabled-fill-color: #AAA;\n",
              "      --disabled-bg-color: #DDD;\n",
              "  }\n",
              "\n",
              "  [theme=dark] .colab-df-quickchart {\n",
              "      --bg-color: #3B4455;\n",
              "      --fill-color: #D2E3FC;\n",
              "      --hover-bg-color: #434B5C;\n",
              "      --hover-fill-color: #FFFFFF;\n",
              "      --disabled-bg-color: #3B4455;\n",
              "      --disabled-fill-color: #666;\n",
              "  }\n",
              "\n",
              "  .colab-df-quickchart {\n",
              "    background-color: var(--bg-color);\n",
              "    border: none;\n",
              "    border-radius: 50%;\n",
              "    cursor: pointer;\n",
              "    display: none;\n",
              "    fill: var(--fill-color);\n",
              "    height: 32px;\n",
              "    padding: 0;\n",
              "    width: 32px;\n",
              "  }\n",
              "\n",
              "  .colab-df-quickchart:hover {\n",
              "    background-color: var(--hover-bg-color);\n",
              "    box-shadow: 0 1px 2px rgba(60, 64, 67, 0.3), 0 1px 3px 1px rgba(60, 64, 67, 0.15);\n",
              "    fill: var(--button-hover-fill-color);\n",
              "  }\n",
              "\n",
              "  .colab-df-quickchart-complete:disabled,\n",
              "  .colab-df-quickchart-complete:disabled:hover {\n",
              "    background-color: var(--disabled-bg-color);\n",
              "    fill: var(--disabled-fill-color);\n",
              "    box-shadow: none;\n",
              "  }\n",
              "\n",
              "  .colab-df-spinner {\n",
              "    border: 2px solid var(--fill-color);\n",
              "    border-color: transparent;\n",
              "    border-bottom-color: var(--fill-color);\n",
              "    animation:\n",
              "      spin 1s steps(1) infinite;\n",
              "  }\n",
              "\n",
              "  @keyframes spin {\n",
              "    0% {\n",
              "      border-color: transparent;\n",
              "      border-bottom-color: var(--fill-color);\n",
              "      border-left-color: var(--fill-color);\n",
              "    }\n",
              "    20% {\n",
              "      border-color: transparent;\n",
              "      border-left-color: var(--fill-color);\n",
              "      border-top-color: var(--fill-color);\n",
              "    }\n",
              "    30% {\n",
              "      border-color: transparent;\n",
              "      border-left-color: var(--fill-color);\n",
              "      border-top-color: var(--fill-color);\n",
              "      border-right-color: var(--fill-color);\n",
              "    }\n",
              "    40% {\n",
              "      border-color: transparent;\n",
              "      border-right-color: var(--fill-color);\n",
              "      border-top-color: var(--fill-color);\n",
              "    }\n",
              "    60% {\n",
              "      border-color: transparent;\n",
              "      border-right-color: var(--fill-color);\n",
              "    }\n",
              "    80% {\n",
              "      border-color: transparent;\n",
              "      border-right-color: var(--fill-color);\n",
              "      border-bottom-color: var(--fill-color);\n",
              "    }\n",
              "    90% {\n",
              "      border-color: transparent;\n",
              "      border-bottom-color: var(--fill-color);\n",
              "    }\n",
              "  }\n",
              "</style>\n",
              "\n",
              "  <script>\n",
              "    async function quickchart(key) {\n",
              "      const quickchartButtonEl =\n",
              "        document.querySelector('#' + key + ' button');\n",
              "      quickchartButtonEl.disabled = true;  // To prevent multiple clicks.\n",
              "      quickchartButtonEl.classList.add('colab-df-spinner');\n",
              "      try {\n",
              "        const charts = await google.colab.kernel.invokeFunction(\n",
              "            'suggestCharts', [key], {});\n",
              "      } catch (error) {\n",
              "        console.error('Error during call to suggestCharts:', error);\n",
              "      }\n",
              "      quickchartButtonEl.classList.remove('colab-df-spinner');\n",
              "      quickchartButtonEl.classList.add('colab-df-quickchart-complete');\n",
              "    }\n",
              "    (() => {\n",
              "      let quickchartButtonEl =\n",
              "        document.querySelector('#df-6a12721c-f11e-492c-ac8d-1817d7dc4457 button');\n",
              "      quickchartButtonEl.style.display =\n",
              "        google.colab.kernel.accessAllowed ? 'block' : 'none';\n",
              "    })();\n",
              "  </script>\n",
              "</div>\n",
              "\n",
              "    </div>\n",
              "  </div>\n"
            ],
            "application/vnd.google.colaboratory.intrinsic+json": {
              "type": "dataframe",
              "variable_name": "salaries",
              "summary": "{\n  \"name\": \"salaries\",\n  \"rows\": 407,\n  \"fields\": [\n    {\n      \"column\": \"Unnamed: 0\",\n      \"properties\": {\n        \"dtype\": \"number\",\n        \"std\": 117,\n        \"min\": 0,\n        \"max\": 406,\n        \"num_unique_values\": 407,\n        \"samples\": [\n          70,\n          218,\n          258\n        ],\n        \"semantic_type\": \"\",\n        \"description\": \"\"\n      }\n    },\n    {\n      \"column\": \"Working_Year\",\n      \"properties\": {\n        \"dtype\": \"number\",\n        \"std\": 0,\n        \"min\": 2020,\n        \"max\": 2022,\n        \"num_unique_values\": 3,\n        \"samples\": [\n          2020,\n          2021,\n          2022\n        ],\n        \"semantic_type\": \"\",\n        \"description\": \"\"\n      }\n    },\n    {\n      \"column\": \"Designation\",\n      \"properties\": {\n        \"dtype\": \"category\",\n        \"num_unique_values\": 47,\n        \"samples\": [\n          \"Principal Data Engineer\",\n          \"Staff Data Scientist\",\n          \"Data Science Engineer\"\n        ],\n        \"semantic_type\": \"\",\n        \"description\": \"\"\n      }\n    },\n    {\n      \"column\": \"Experience\",\n      \"properties\": {\n        \"dtype\": \"category\",\n        \"num_unique_values\": 4,\n        \"samples\": [\n          \"MI\",\n          \"EX\",\n          \"SE\"\n        ],\n        \"semantic_type\": \"\",\n        \"description\": \"\"\n      }\n    },\n    {\n      \"column\": \"Employment_Status\",\n      \"properties\": {\n        \"dtype\": \"category\",\n        \"num_unique_values\": 4,\n        \"samples\": [\n          \"CT\",\n          \"FL\",\n          \"FT\"\n        ],\n        \"semantic_type\": \"\",\n        \"description\": \"\"\n      }\n    },\n    {\n      \"column\": \"Salary_In_Rupees\",\n      \"properties\": {\n        \"dtype\": \"number\",\n        \"std\": 5457434.018438541,\n        \"min\": 318278.0,\n        \"max\": 35806275.0,\n        \"num_unique_values\": 268,\n        \"samples\": [\n          4476262.0,\n          15673521.0,\n          35806275.0\n        ],\n        \"semantic_type\": \"\",\n        \"description\": \"\"\n      }\n    },\n    {\n      \"column\": \"Employee_Location\",\n      \"properties\": {\n        \"dtype\": \"category\",\n        \"num_unique_values\": 44,\n        \"samples\": [\n          \"CZ\",\n          \"RU\",\n          \"PT\"\n        ],\n        \"semantic_type\": \"\",\n        \"description\": \"\"\n      }\n    },\n    {\n      \"column\": \"Company_Location\",\n      \"properties\": {\n        \"dtype\": \"category\",\n        \"num_unique_values\": 41,\n        \"samples\": [\n          \"PK\",\n          \"DE\",\n          \"AE\"\n        ],\n        \"semantic_type\": \"\",\n        \"description\": \"\"\n      }\n    },\n    {\n      \"column\": \"Company_Size\",\n      \"properties\": {\n        \"dtype\": \"category\",\n        \"num_unique_values\": 3,\n        \"samples\": [\n          \"S\",\n          \"M\",\n          \"L\"\n        ],\n        \"semantic_type\": \"\",\n        \"description\": \"\"\n      }\n    },\n    {\n      \"column\": \"Remote_Working_Ratio\",\n      \"properties\": {\n        \"dtype\": \"number\",\n        \"std\": 40.463135619498075,\n        \"min\": 0.0,\n        \"max\": 100.0,\n        \"num_unique_values\": 3,\n        \"samples\": [\n          0.0,\n          50.0,\n          100.0\n        ],\n        \"semantic_type\": \"\",\n        \"description\": \"\"\n      }\n    },\n    {\n      \"column\": \"Salary_USD\",\n      \"properties\": {\n        \"dtype\": \"number\",\n        \"std\": 65489.2082212625,\n        \"min\": 3819.336,\n        \"max\": 429675.3,\n        \"num_unique_values\": 268,\n        \"samples\": [\n          53715.144,\n          188082.252,\n          429675.3\n        ],\n        \"semantic_type\": \"\",\n        \"description\": \"\"\n      }\n    },\n    {\n      \"column\": \"Job_Category\",\n      \"properties\": {\n        \"dtype\": \"category\",\n        \"num_unique_values\": 6,\n        \"samples\": [\n          \"Machine Learning\",\n          \"Data Engineering\",\n          \"Managerial\"\n        ],\n        \"semantic_type\": \"\",\n        \"description\": \"\"\n      }\n    }\n  ]\n}"
            }
          },
          "metadata": {},
          "execution_count": 7
        }
      ]
    },
    {
      "cell_type": "code",
      "source": [
        "salaries.info()"
      ],
      "metadata": {
        "colab": {
          "base_uri": "https://localhost:8080/"
        },
        "id": "SVjq8O6Szdtr",
        "outputId": "fc29dff0-aaa3-4ccc-9937-804e3e08af9c"
      },
      "execution_count": 8,
      "outputs": [
        {
          "output_type": "stream",
          "name": "stdout",
          "text": [
            "<class 'pandas.core.frame.DataFrame'>\n",
            "RangeIndex: 407 entries, 0 to 406\n",
            "Data columns (total 12 columns):\n",
            " #   Column                Non-Null Count  Dtype  \n",
            "---  ------                --------------  -----  \n",
            " 0   Unnamed: 0            407 non-null    int64  \n",
            " 1   Working_Year          407 non-null    int64  \n",
            " 2   Designation           407 non-null    object \n",
            " 3   Experience            407 non-null    object \n",
            " 4   Employment_Status     407 non-null    object \n",
            " 5   Salary_In_Rupees      407 non-null    float64\n",
            " 6   Employee_Location     407 non-null    object \n",
            " 7   Company_Location      407 non-null    object \n",
            " 8   Company_Size          407 non-null    object \n",
            " 9   Remote_Working_Ratio  407 non-null    float64\n",
            " 10  Salary_USD            407 non-null    float64\n",
            " 11  Job_Category          407 non-null    object \n",
            "dtypes: float64(3), int64(2), object(7)\n",
            "memory usage: 38.3+ KB\n"
          ]
        }
      ]
    },
    {
      "cell_type": "markdown",
      "source": [
        "## Exercise - **Checking for class imbalance**\n",
        "\n",
        "The [2022 Kaggle Survey](https://www.kaggle.com/kaggle-survey-2022) captures information about data scientists' backgrounds, preferred technologies, and techniques. It is seen as an accurate view of what is happening in data science based on the volume and profile of responders.\n",
        "\n",
        "Having looked at the job titles and categorized to align with our `salaries` DataFrame, you can see the following proportion of job categories in the Kaggle survey:\n",
        "\n",
        "| Job Category       | Relative Frequency |\n",
        "|--------------------|-------------------|\n",
        "| Data Science      | 0.281236           |\n",
        "| Data Analytics    | 0.224231           |\n",
        "| Other            | 0.214609           |\n",
        "| Managerial       | 0.121300           |\n",
        "| Machine Learning | 0.083248           |\n",
        "| Data Engineering | 0.075375           |\n",
        "\n",
        "Thinking of the Kaggle survey results as the population, your task is to find out whether the `salaries` DataFrame is representative by comparing the relative frequency of job categories.\n"
      ],
      "metadata": {
        "id": "qcxHGz0EAsun"
      }
    },
    {
      "cell_type": "markdown",
      "source": [
        "**Instructions**\n",
        "\n",
        "Print the relative frequency of the `\"Job_Category\"` column from `salaries` DataFrame.\n"
      ],
      "metadata": {
        "id": "iQaacWXABX_L"
      }
    },
    {
      "cell_type": "code",
      "source": [
        "# Print the relative frequency of Job_Category\n",
        "print(salaries['Job_Category'].value_counts(normalize=True).round(3))"
      ],
      "metadata": {
        "colab": {
          "base_uri": "https://localhost:8080/"
        },
        "id": "v3B6lS9jAzb7",
        "outputId": "3b40629a-5f36-4a17-814a-5e4f773b6639"
      },
      "execution_count": 9,
      "outputs": [
        {
          "output_type": "stream",
          "name": "stdout",
          "text": [
            "Job_Category\n",
            "Data Science        0.278\n",
            "Data Engineering    0.273\n",
            "Data Analytics      0.226\n",
            "Machine Learning    0.120\n",
            "Other               0.069\n",
            "Managerial          0.034\n",
            "Name: proportion, dtype: float64\n"
          ]
        }
      ]
    },
    {
      "cell_type": "markdown",
      "source": [
        "**Result**: Fantastic relative frequency calculation! It looks like Data Science is the most popular class and has a similar representation. Still, the other categories have quite different relative frequencies, which might not be surprising given the target audience is data scientists! Given the difference in relative frequencies, can you trust the `salaries` DataFrame to accurately represent Managerial roles?"
      ],
      "metadata": {
        "id": "QsbcmH8lC5kq"
      }
    },
    {
      "cell_type": "markdown",
      "source": [
        "## Exercise - **Cross-tabulation**\n",
        "\n",
        "Cross-tabulation can help identify how observations occur in combination.\n",
        "\n",
        "Using the `salaries` dataset, which has been imported as a `pandas` DataFrame, you'll perform cross-tabulation on multiple variables, including the use of aggregation, to see the relationship between `\"Company_Size\"` and other variables.\n"
      ],
      "metadata": {
        "id": "kMN2PGROOMOZ"
      }
    },
    {
      "cell_type": "markdown",
      "source": [
        "**Instructions**\n",
        "\n",
        "* Perform cross-tabulation, setting \"Company_Size\" as the index, and the columns to classes in \"Experience\"."
      ],
      "metadata": {
        "id": "BjOgqrQ0OgEx"
      }
    },
    {
      "cell_type": "code",
      "source": [
        "# Cross-tabulate Company_Size and Experience\n",
        "print(pd.crosstab(salaries[\"Company_Size\"], salaries[\"Experience\"]))"
      ],
      "metadata": {
        "id": "9ocNKUusC-9i",
        "colab": {
          "base_uri": "https://localhost:8080/"
        },
        "outputId": "27f20bd7-a69e-4d28-ab3d-91424dce3c76"
      },
      "execution_count": 10,
      "outputs": [
        {
          "output_type": "stream",
          "name": "stdout",
          "text": [
            "Experience    EN  EX  MI   SE\n",
            "Company_Size                 \n",
            "L             24   7  49   44\n",
            "M             25   9  58  136\n",
            "S             18   1  21   15\n"
          ]
        }
      ]
    },
    {
      "cell_type": "markdown",
      "source": [
        "* Cross-tabulate `\"Job_Category\"` and classes of `\"Company_Size\"` as column names."
      ],
      "metadata": {
        "id": "muAIfGkBX6_v"
      }
    },
    {
      "cell_type": "code",
      "source": [
        "# Cross-tabulate Job_Category and Company_Size\n",
        "print(pd.crosstab(salaries[\"Job_Category\"], salaries[\"Company_Size\"]))"
      ],
      "metadata": {
        "colab": {
          "base_uri": "https://localhost:8080/"
        },
        "id": "24wPpLhDX5no",
        "outputId": "fb8a241c-edce-4ed2-f47b-1e5ad3d40a50"
      },
      "execution_count": 11,
      "outputs": [
        {
          "output_type": "stream",
          "name": "stdout",
          "text": [
            "Company_Size       L   M   S\n",
            "Job_Category                \n",
            "Data Analytics    23  61   8\n",
            "Data Engineering  28  72  11\n",
            "Data Science      38  59  16\n",
            "Machine Learning  17  19  13\n",
            "Managerial         5   8   1\n",
            "Other             13   9   6\n"
          ]
        }
      ]
    },
    {
      "cell_type": "markdown",
      "source": [
        "* Update `pd.crosstab()` to return the mean `\"Salary_USD\"` values."
      ],
      "metadata": {
        "id": "mj93WN_YYKK1"
      }
    },
    {
      "cell_type": "code",
      "source": [
        "# Cross-tabulate Job_Category and Company_Size\n",
        "print(pd.crosstab(salaries[\"Job_Category\"], salaries[\"Company_Size\"],\n",
        "            values=salaries[\"Salary_USD\"], aggfunc=\"mean\"))"
      ],
      "metadata": {
        "colab": {
          "base_uri": "https://localhost:8080/"
        },
        "id": "-HmKzyUKYMxN",
        "outputId": "9ff8158e-658b-4a18-e417-46db3634f77f"
      },
      "execution_count": 12,
      "outputs": [
        {
          "output_type": "stream",
          "name": "stdout",
          "text": [
            "Company_Size                  L              M             S\n",
            "Job_Category                                                \n",
            "Data Analytics    112851.749217   95912.685246  53741.877000\n",
            "Data Engineering  118939.035000  121287.060500  86927.136000\n",
            "Data Science       96489.520105  116044.455864  62241.749250\n",
            "Machine Learning  140779.491529  100794.236842  78812.586462\n",
            "Managerial        190551.448800  150713.628000  31484.700000\n",
            "Other              92873.911385   89750.578667  69871.248000\n"
          ]
        }
      ]
    },
    {
      "cell_type": "markdown",
      "source": [
        "**Result**: Awesome cross-tabulation! This is a handy function to examine the combination of frequencies, as well as find aggregated statistics. Looks like the largest mean salary is for Managerial data roles in large companies!"
      ],
      "metadata": {
        "id": "oZgRARvfYk4d"
      }
    },
    {
      "cell_type": "markdown",
      "source": [
        "# **Generating new features**\n"
      ],
      "metadata": {
        "id": "uSchOT9hZGyO"
      }
    },
    {
      "cell_type": "markdown",
      "source": [
        "# Exercise - **Extracting features for correlation**\n",
        "\n",
        "In this exercise, you'll work with a version of the `salaries` dataset containing a new column called `\"date_of_response\"`.\n",
        "\n",
        "The dataset has been read in as a pandas DataFrame, with `\"date_of_response\"` as a `datetime` data type.\n",
        "\n",
        "Your task is to extract datetime attributes from this column and then create a heat map to visualize the correlation coefficients between variables."
      ],
      "metadata": {
        "id": "y9oJPalTnWE2"
      }
    },
    {
      "cell_type": "code",
      "source": [
        "import pandas as pd\n",
        "import numpy as np\n",
        "\n",
        "salaries_date_of_response_url = 'https://raw.githubusercontent.com/Marc86316/DataCamp/refs/heads/main/dataset/Exploratory_Data_Analysis_in_Python/salaries_date_of_response.csv'\n",
        "salaries_date_of_response = pd.read_csv(salaries_date_of_response_url)\n",
        "salaries_date_of_response.head()"
      ],
      "metadata": {
        "colab": {
          "base_uri": "https://localhost:8080/",
          "height": 348
        },
        "id": "wMp0AMPGpjku",
        "outputId": "668fe5db-f0f5-47e1-a6f9-e3d5c8bc79e5"
      },
      "execution_count": 13,
      "outputs": [
        {
          "output_type": "execute_result",
          "data": {
            "text/plain": [
              "   Unnamed: 0                 Designation date_of_response Experience  \\\n",
              "0           0  Machine Learning Scientist       2020-01-07         SE   \n",
              "1           1           Big Data Engineer       2020-09-19         SE   \n",
              "2           2        Product Data Analyst       2020-11-21         MI   \n",
              "3           3   Machine Learning Engineer       2020-11-29         SE   \n",
              "4           4                Data Analyst       2020-09-07         EN   \n",
              "\n",
              "  Employment_Status  Salary_In_Rupees Employee_Location Company_Location  \\\n",
              "0                FT        20688070.0                JP               JP   \n",
              "1                FT         8674985.0                GB               GB   \n",
              "2                FT         1591390.0                HN               HN   \n",
              "3                FT        11935425.0                US               US   \n",
              "4                FT         5729004.0                US               US   \n",
              "\n",
              "  Company_Size  Remote_Working_Ratio  Salary_USD      Job_Category  \n",
              "0            S                   0.0  248256.840  Machine Learning  \n",
              "1            M                  50.0  104099.820  Data Engineering  \n",
              "2            S                   0.0   19096.680    Data Analytics  \n",
              "3            L                  50.0  143225.100  Machine Learning  \n",
              "4            L                 100.0   68748.048    Data Analytics  "
            ],
            "text/html": [
              "\n",
              "  <div id=\"df-488aba9b-756c-4085-90a0-3a84001a0542\" class=\"colab-df-container\">\n",
              "    <div>\n",
              "<style scoped>\n",
              "    .dataframe tbody tr th:only-of-type {\n",
              "        vertical-align: middle;\n",
              "    }\n",
              "\n",
              "    .dataframe tbody tr th {\n",
              "        vertical-align: top;\n",
              "    }\n",
              "\n",
              "    .dataframe thead th {\n",
              "        text-align: right;\n",
              "    }\n",
              "</style>\n",
              "<table border=\"1\" class=\"dataframe\">\n",
              "  <thead>\n",
              "    <tr style=\"text-align: right;\">\n",
              "      <th></th>\n",
              "      <th>Unnamed: 0</th>\n",
              "      <th>Designation</th>\n",
              "      <th>date_of_response</th>\n",
              "      <th>Experience</th>\n",
              "      <th>Employment_Status</th>\n",
              "      <th>Salary_In_Rupees</th>\n",
              "      <th>Employee_Location</th>\n",
              "      <th>Company_Location</th>\n",
              "      <th>Company_Size</th>\n",
              "      <th>Remote_Working_Ratio</th>\n",
              "      <th>Salary_USD</th>\n",
              "      <th>Job_Category</th>\n",
              "    </tr>\n",
              "  </thead>\n",
              "  <tbody>\n",
              "    <tr>\n",
              "      <th>0</th>\n",
              "      <td>0</td>\n",
              "      <td>Machine Learning Scientist</td>\n",
              "      <td>2020-01-07</td>\n",
              "      <td>SE</td>\n",
              "      <td>FT</td>\n",
              "      <td>20688070.0</td>\n",
              "      <td>JP</td>\n",
              "      <td>JP</td>\n",
              "      <td>S</td>\n",
              "      <td>0.0</td>\n",
              "      <td>248256.840</td>\n",
              "      <td>Machine Learning</td>\n",
              "    </tr>\n",
              "    <tr>\n",
              "      <th>1</th>\n",
              "      <td>1</td>\n",
              "      <td>Big Data Engineer</td>\n",
              "      <td>2020-09-19</td>\n",
              "      <td>SE</td>\n",
              "      <td>FT</td>\n",
              "      <td>8674985.0</td>\n",
              "      <td>GB</td>\n",
              "      <td>GB</td>\n",
              "      <td>M</td>\n",
              "      <td>50.0</td>\n",
              "      <td>104099.820</td>\n",
              "      <td>Data Engineering</td>\n",
              "    </tr>\n",
              "    <tr>\n",
              "      <th>2</th>\n",
              "      <td>2</td>\n",
              "      <td>Product Data Analyst</td>\n",
              "      <td>2020-11-21</td>\n",
              "      <td>MI</td>\n",
              "      <td>FT</td>\n",
              "      <td>1591390.0</td>\n",
              "      <td>HN</td>\n",
              "      <td>HN</td>\n",
              "      <td>S</td>\n",
              "      <td>0.0</td>\n",
              "      <td>19096.680</td>\n",
              "      <td>Data Analytics</td>\n",
              "    </tr>\n",
              "    <tr>\n",
              "      <th>3</th>\n",
              "      <td>3</td>\n",
              "      <td>Machine Learning Engineer</td>\n",
              "      <td>2020-11-29</td>\n",
              "      <td>SE</td>\n",
              "      <td>FT</td>\n",
              "      <td>11935425.0</td>\n",
              "      <td>US</td>\n",
              "      <td>US</td>\n",
              "      <td>L</td>\n",
              "      <td>50.0</td>\n",
              "      <td>143225.100</td>\n",
              "      <td>Machine Learning</td>\n",
              "    </tr>\n",
              "    <tr>\n",
              "      <th>4</th>\n",
              "      <td>4</td>\n",
              "      <td>Data Analyst</td>\n",
              "      <td>2020-09-07</td>\n",
              "      <td>EN</td>\n",
              "      <td>FT</td>\n",
              "      <td>5729004.0</td>\n",
              "      <td>US</td>\n",
              "      <td>US</td>\n",
              "      <td>L</td>\n",
              "      <td>100.0</td>\n",
              "      <td>68748.048</td>\n",
              "      <td>Data Analytics</td>\n",
              "    </tr>\n",
              "  </tbody>\n",
              "</table>\n",
              "</div>\n",
              "    <div class=\"colab-df-buttons\">\n",
              "\n",
              "  <div class=\"colab-df-container\">\n",
              "    <button class=\"colab-df-convert\" onclick=\"convertToInteractive('df-488aba9b-756c-4085-90a0-3a84001a0542')\"\n",
              "            title=\"Convert this dataframe to an interactive table.\"\n",
              "            style=\"display:none;\">\n",
              "\n",
              "  <svg xmlns=\"http://www.w3.org/2000/svg\" height=\"24px\" viewBox=\"0 -960 960 960\">\n",
              "    <path d=\"M120-120v-720h720v720H120Zm60-500h600v-160H180v160Zm220 220h160v-160H400v160Zm0 220h160v-160H400v160ZM180-400h160v-160H180v160Zm440 0h160v-160H620v160ZM180-180h160v-160H180v160Zm440 0h160v-160H620v160Z\"/>\n",
              "  </svg>\n",
              "    </button>\n",
              "\n",
              "  <style>\n",
              "    .colab-df-container {\n",
              "      display:flex;\n",
              "      gap: 12px;\n",
              "    }\n",
              "\n",
              "    .colab-df-convert {\n",
              "      background-color: #E8F0FE;\n",
              "      border: none;\n",
              "      border-radius: 50%;\n",
              "      cursor: pointer;\n",
              "      display: none;\n",
              "      fill: #1967D2;\n",
              "      height: 32px;\n",
              "      padding: 0 0 0 0;\n",
              "      width: 32px;\n",
              "    }\n",
              "\n",
              "    .colab-df-convert:hover {\n",
              "      background-color: #E2EBFA;\n",
              "      box-shadow: 0px 1px 2px rgba(60, 64, 67, 0.3), 0px 1px 3px 1px rgba(60, 64, 67, 0.15);\n",
              "      fill: #174EA6;\n",
              "    }\n",
              "\n",
              "    .colab-df-buttons div {\n",
              "      margin-bottom: 4px;\n",
              "    }\n",
              "\n",
              "    [theme=dark] .colab-df-convert {\n",
              "      background-color: #3B4455;\n",
              "      fill: #D2E3FC;\n",
              "    }\n",
              "\n",
              "    [theme=dark] .colab-df-convert:hover {\n",
              "      background-color: #434B5C;\n",
              "      box-shadow: 0px 1px 3px 1px rgba(0, 0, 0, 0.15);\n",
              "      filter: drop-shadow(0px 1px 2px rgba(0, 0, 0, 0.3));\n",
              "      fill: #FFFFFF;\n",
              "    }\n",
              "  </style>\n",
              "\n",
              "    <script>\n",
              "      const buttonEl =\n",
              "        document.querySelector('#df-488aba9b-756c-4085-90a0-3a84001a0542 button.colab-df-convert');\n",
              "      buttonEl.style.display =\n",
              "        google.colab.kernel.accessAllowed ? 'block' : 'none';\n",
              "\n",
              "      async function convertToInteractive(key) {\n",
              "        const element = document.querySelector('#df-488aba9b-756c-4085-90a0-3a84001a0542');\n",
              "        const dataTable =\n",
              "          await google.colab.kernel.invokeFunction('convertToInteractive',\n",
              "                                                    [key], {});\n",
              "        if (!dataTable) return;\n",
              "\n",
              "        const docLinkHtml = 'Like what you see? Visit the ' +\n",
              "          '<a target=\"_blank\" href=https://colab.research.google.com/notebooks/data_table.ipynb>data table notebook</a>'\n",
              "          + ' to learn more about interactive tables.';\n",
              "        element.innerHTML = '';\n",
              "        dataTable['output_type'] = 'display_data';\n",
              "        await google.colab.output.renderOutput(dataTable, element);\n",
              "        const docLink = document.createElement('div');\n",
              "        docLink.innerHTML = docLinkHtml;\n",
              "        element.appendChild(docLink);\n",
              "      }\n",
              "    </script>\n",
              "  </div>\n",
              "\n",
              "\n",
              "<div id=\"df-72d81234-2962-445c-bc1c-de2e388788cc\">\n",
              "  <button class=\"colab-df-quickchart\" onclick=\"quickchart('df-72d81234-2962-445c-bc1c-de2e388788cc')\"\n",
              "            title=\"Suggest charts\"\n",
              "            style=\"display:none;\">\n",
              "\n",
              "<svg xmlns=\"http://www.w3.org/2000/svg\" height=\"24px\"viewBox=\"0 0 24 24\"\n",
              "     width=\"24px\">\n",
              "    <g>\n",
              "        <path d=\"M19 3H5c-1.1 0-2 .9-2 2v14c0 1.1.9 2 2 2h14c1.1 0 2-.9 2-2V5c0-1.1-.9-2-2-2zM9 17H7v-7h2v7zm4 0h-2V7h2v10zm4 0h-2v-4h2v4z\"/>\n",
              "    </g>\n",
              "</svg>\n",
              "  </button>\n",
              "\n",
              "<style>\n",
              "  .colab-df-quickchart {\n",
              "      --bg-color: #E8F0FE;\n",
              "      --fill-color: #1967D2;\n",
              "      --hover-bg-color: #E2EBFA;\n",
              "      --hover-fill-color: #174EA6;\n",
              "      --disabled-fill-color: #AAA;\n",
              "      --disabled-bg-color: #DDD;\n",
              "  }\n",
              "\n",
              "  [theme=dark] .colab-df-quickchart {\n",
              "      --bg-color: #3B4455;\n",
              "      --fill-color: #D2E3FC;\n",
              "      --hover-bg-color: #434B5C;\n",
              "      --hover-fill-color: #FFFFFF;\n",
              "      --disabled-bg-color: #3B4455;\n",
              "      --disabled-fill-color: #666;\n",
              "  }\n",
              "\n",
              "  .colab-df-quickchart {\n",
              "    background-color: var(--bg-color);\n",
              "    border: none;\n",
              "    border-radius: 50%;\n",
              "    cursor: pointer;\n",
              "    display: none;\n",
              "    fill: var(--fill-color);\n",
              "    height: 32px;\n",
              "    padding: 0;\n",
              "    width: 32px;\n",
              "  }\n",
              "\n",
              "  .colab-df-quickchart:hover {\n",
              "    background-color: var(--hover-bg-color);\n",
              "    box-shadow: 0 1px 2px rgba(60, 64, 67, 0.3), 0 1px 3px 1px rgba(60, 64, 67, 0.15);\n",
              "    fill: var(--button-hover-fill-color);\n",
              "  }\n",
              "\n",
              "  .colab-df-quickchart-complete:disabled,\n",
              "  .colab-df-quickchart-complete:disabled:hover {\n",
              "    background-color: var(--disabled-bg-color);\n",
              "    fill: var(--disabled-fill-color);\n",
              "    box-shadow: none;\n",
              "  }\n",
              "\n",
              "  .colab-df-spinner {\n",
              "    border: 2px solid var(--fill-color);\n",
              "    border-color: transparent;\n",
              "    border-bottom-color: var(--fill-color);\n",
              "    animation:\n",
              "      spin 1s steps(1) infinite;\n",
              "  }\n",
              "\n",
              "  @keyframes spin {\n",
              "    0% {\n",
              "      border-color: transparent;\n",
              "      border-bottom-color: var(--fill-color);\n",
              "      border-left-color: var(--fill-color);\n",
              "    }\n",
              "    20% {\n",
              "      border-color: transparent;\n",
              "      border-left-color: var(--fill-color);\n",
              "      border-top-color: var(--fill-color);\n",
              "    }\n",
              "    30% {\n",
              "      border-color: transparent;\n",
              "      border-left-color: var(--fill-color);\n",
              "      border-top-color: var(--fill-color);\n",
              "      border-right-color: var(--fill-color);\n",
              "    }\n",
              "    40% {\n",
              "      border-color: transparent;\n",
              "      border-right-color: var(--fill-color);\n",
              "      border-top-color: var(--fill-color);\n",
              "    }\n",
              "    60% {\n",
              "      border-color: transparent;\n",
              "      border-right-color: var(--fill-color);\n",
              "    }\n",
              "    80% {\n",
              "      border-color: transparent;\n",
              "      border-right-color: var(--fill-color);\n",
              "      border-bottom-color: var(--fill-color);\n",
              "    }\n",
              "    90% {\n",
              "      border-color: transparent;\n",
              "      border-bottom-color: var(--fill-color);\n",
              "    }\n",
              "  }\n",
              "</style>\n",
              "\n",
              "  <script>\n",
              "    async function quickchart(key) {\n",
              "      const quickchartButtonEl =\n",
              "        document.querySelector('#' + key + ' button');\n",
              "      quickchartButtonEl.disabled = true;  // To prevent multiple clicks.\n",
              "      quickchartButtonEl.classList.add('colab-df-spinner');\n",
              "      try {\n",
              "        const charts = await google.colab.kernel.invokeFunction(\n",
              "            'suggestCharts', [key], {});\n",
              "      } catch (error) {\n",
              "        console.error('Error during call to suggestCharts:', error);\n",
              "      }\n",
              "      quickchartButtonEl.classList.remove('colab-df-spinner');\n",
              "      quickchartButtonEl.classList.add('colab-df-quickchart-complete');\n",
              "    }\n",
              "    (() => {\n",
              "      let quickchartButtonEl =\n",
              "        document.querySelector('#df-72d81234-2962-445c-bc1c-de2e388788cc button');\n",
              "      quickchartButtonEl.style.display =\n",
              "        google.colab.kernel.accessAllowed ? 'block' : 'none';\n",
              "    })();\n",
              "  </script>\n",
              "</div>\n",
              "\n",
              "    </div>\n",
              "  </div>\n"
            ],
            "application/vnd.google.colaboratory.intrinsic+json": {
              "type": "dataframe",
              "variable_name": "salaries_date_of_response",
              "summary": "{\n  \"name\": \"salaries_date_of_response\",\n  \"rows\": 407,\n  \"fields\": [\n    {\n      \"column\": \"Unnamed: 0\",\n      \"properties\": {\n        \"dtype\": \"number\",\n        \"std\": 117,\n        \"min\": 0,\n        \"max\": 406,\n        \"num_unique_values\": 407,\n        \"samples\": [\n          70,\n          218,\n          258\n        ],\n        \"semantic_type\": \"\",\n        \"description\": \"\"\n      }\n    },\n    {\n      \"column\": \"Designation\",\n      \"properties\": {\n        \"dtype\": \"category\",\n        \"num_unique_values\": 47,\n        \"samples\": [\n          \"Principal Data Engineer\",\n          \"Staff Data Scientist\",\n          \"Data Science Engineer\"\n        ],\n        \"semantic_type\": \"\",\n        \"description\": \"\"\n      }\n    },\n    {\n      \"column\": \"date_of_response\",\n      \"properties\": {\n        \"dtype\": \"object\",\n        \"num_unique_values\": 320,\n        \"samples\": [\n          \"2022-10-03\",\n          \"2022-04-02\",\n          \"2020-02-21\"\n        ],\n        \"semantic_type\": \"\",\n        \"description\": \"\"\n      }\n    },\n    {\n      \"column\": \"Experience\",\n      \"properties\": {\n        \"dtype\": \"category\",\n        \"num_unique_values\": 4,\n        \"samples\": [\n          \"MI\",\n          \"EX\",\n          \"SE\"\n        ],\n        \"semantic_type\": \"\",\n        \"description\": \"\"\n      }\n    },\n    {\n      \"column\": \"Employment_Status\",\n      \"properties\": {\n        \"dtype\": \"category\",\n        \"num_unique_values\": 4,\n        \"samples\": [\n          \"CT\",\n          \"FL\",\n          \"FT\"\n        ],\n        \"semantic_type\": \"\",\n        \"description\": \"\"\n      }\n    },\n    {\n      \"column\": \"Salary_In_Rupees\",\n      \"properties\": {\n        \"dtype\": \"number\",\n        \"std\": 5457434.018438541,\n        \"min\": 318278.0,\n        \"max\": 35806275.0,\n        \"num_unique_values\": 268,\n        \"samples\": [\n          4476262.0,\n          15673521.0,\n          35806275.0\n        ],\n        \"semantic_type\": \"\",\n        \"description\": \"\"\n      }\n    },\n    {\n      \"column\": \"Employee_Location\",\n      \"properties\": {\n        \"dtype\": \"category\",\n        \"num_unique_values\": 44,\n        \"samples\": [\n          \"CZ\",\n          \"RU\",\n          \"PT\"\n        ],\n        \"semantic_type\": \"\",\n        \"description\": \"\"\n      }\n    },\n    {\n      \"column\": \"Company_Location\",\n      \"properties\": {\n        \"dtype\": \"category\",\n        \"num_unique_values\": 41,\n        \"samples\": [\n          \"PK\",\n          \"DE\",\n          \"AE\"\n        ],\n        \"semantic_type\": \"\",\n        \"description\": \"\"\n      }\n    },\n    {\n      \"column\": \"Company_Size\",\n      \"properties\": {\n        \"dtype\": \"category\",\n        \"num_unique_values\": 3,\n        \"samples\": [\n          \"S\",\n          \"M\",\n          \"L\"\n        ],\n        \"semantic_type\": \"\",\n        \"description\": \"\"\n      }\n    },\n    {\n      \"column\": \"Remote_Working_Ratio\",\n      \"properties\": {\n        \"dtype\": \"number\",\n        \"std\": 40.463135619498075,\n        \"min\": 0.0,\n        \"max\": 100.0,\n        \"num_unique_values\": 3,\n        \"samples\": [\n          0.0,\n          50.0,\n          100.0\n        ],\n        \"semantic_type\": \"\",\n        \"description\": \"\"\n      }\n    },\n    {\n      \"column\": \"Salary_USD\",\n      \"properties\": {\n        \"dtype\": \"number\",\n        \"std\": 65489.2082212625,\n        \"min\": 3819.336,\n        \"max\": 429675.3,\n        \"num_unique_values\": 268,\n        \"samples\": [\n          53715.144,\n          188082.252,\n          429675.3\n        ],\n        \"semantic_type\": \"\",\n        \"description\": \"\"\n      }\n    },\n    {\n      \"column\": \"Job_Category\",\n      \"properties\": {\n        \"dtype\": \"category\",\n        \"num_unique_values\": 6,\n        \"samples\": [\n          \"Machine Learning\",\n          \"Data Engineering\",\n          \"Managerial\"\n        ],\n        \"semantic_type\": \"\",\n        \"description\": \"\"\n      }\n    }\n  ]\n}"
            }
          },
          "metadata": {},
          "execution_count": 13
        }
      ]
    },
    {
      "cell_type": "code",
      "source": [
        "# Check and remove the \"Unnamed: 0\" column if it exists\n",
        "if \"Unnamed: 0\" in salaries_date_of_response.columns:\n",
        "    salaries_date_of_response = salaries_date_of_response.drop(columns=[\"Unnamed: 0\"])\n",
        "\n",
        "# Reset the index to be 0 to N (optional, if needed)\n",
        "salaries_date_of_response.reset_index(drop=True, inplace=True)\n",
        "\n",
        "# Now df has a clean index and no extra \"Unnamed\" column"
      ],
      "metadata": {
        "id": "T-gYLsymr_2E"
      },
      "execution_count": 14,
      "outputs": []
    },
    {
      "cell_type": "markdown",
      "source": [
        "**Instructions**\n",
        "\n",
        "* Extract the month from `\"date_of_response\"`, storing it as a column called `\"month\"`.\n",
        "* Create the `\"weekday\"` column, containing the weekday that the participants completed the survey.\n",
        "* Plot a heat map, including the Pearson correlation coefficient scores."
      ],
      "metadata": {
        "id": "AiVxflGrnn0I"
      }
    },
    {
      "cell_type": "code",
      "source": [
        "# Convert 'date_of_response' to datetime\n",
        "salaries_date_of_response[\"date_of_response\"] = pd.to_datetime(salaries_date_of_response[\"date_of_response\"])\n",
        "\n",
        "# key exercise below\n",
        "# Extract the month from date_of_response\n",
        "salaries_date_of_response[\"month\"] = salaries_date_of_response[\"date_of_response\"].dt.month\n",
        "\n",
        "# Extract the weekday from date_of_response\n",
        "salaries_date_of_response[\"weekday\"] = salaries_date_of_response[\"date_of_response\"].dt.weekday"
      ],
      "metadata": {
        "id": "eZG4VP3VnnkS"
      },
      "execution_count": 15,
      "outputs": []
    },
    {
      "cell_type": "code",
      "source": [
        "# Assuming salaries_date_of_response is your DataFrame\n",
        "\n",
        "# Select only numerical features for correlation analysis\n",
        "numerical_features = salaries_date_of_response.select_dtypes(include=['number'])\n",
        "\n",
        "# Calculate the correlation matrix\n",
        "correlation_matrix = numerical_features.corr()\n",
        "\n",
        "# key exercise below\n",
        "# Plot the heatmap\n",
        "sns.heatmap(correlation_matrix, annot=True)\n",
        "plt.show()"
      ],
      "metadata": {
        "colab": {
          "base_uri": "https://localhost:8080/",
          "height": 582
        },
        "id": "439oC4XLoB72",
        "outputId": "95153ffc-5e71-4558-a497-c0eccbb3d5c5"
      },
      "execution_count": 16,
      "outputs": [
        {
          "output_type": "display_data",
          "data": {
            "text/plain": [
              "<Figure size 640x480 with 2 Axes>"
            ],
            "image/png": "[encoded data removed]"
          },
          "metadata": {}
        }
      ]
    },
    {
      "cell_type": "markdown",
      "source": [
        "**Result** : Fantastic feature creation! Looks like there aren't any meaningful relationships between our numeric variables, so let's see if converting numeric data into classes offers additional insights."
      ],
      "metadata": {
        "id": "AiMTSOPzslwD"
      }
    },
    {
      "cell_type": "markdown",
      "source": [
        "## Exercise - **Calculating salary percentiles**\n",
        "\n",
        "In the video, you saw that the conversion of numeric data into categories sometimes makes it easier to identify patterns.\n",
        "\n",
        "Your task is to convert the `\"Salary_USD\"` column into categories based on its percentiles. First, you need to find the percentiles and store them as variables.\n"
      ],
      "metadata": {
        "id": "Cgf9j2yastbM"
      }
    },
    {
      "cell_type": "markdown",
      "source": [
        "**Instructions**\n",
        "\n",
        "* Find the 25th percentile of `\"Salary_USD\"`.\n",
        "* Store the median of `\"Salary_USD\"` as `salaries_median`.\n",
        "* Get the 75th percentile of salaries.\n",
        "\n"
      ],
      "metadata": {
        "id": "OCOhiDAzs2y1"
      }
    },
    {
      "cell_type": "code",
      "source": [
        "# Find the 25th percentile\n",
        "twenty_fifth = salaries[\"Salary_USD\"].quantile(0.25)\n",
        "\n",
        "# Save the median\n",
        "salaries_median = salaries[\"Salary_USD\"].median()\n",
        "\n",
        "# Gather the 75th percentile\n",
        "seventy_fifth = salaries[\"Salary_USD\"].quantile(0.75)\n",
        "print(twenty_fifth, salaries_median, seventy_fifth)"
      ],
      "metadata": {
        "colab": {
          "base_uri": "https://localhost:8080/"
        },
        "id": "5CdsJYjPtB68",
        "outputId": "563fc995-2191-470e-b8dd-f94ecf109458"
      },
      "execution_count": 17,
      "outputs": [
        {
          "output_type": "stream",
          "name": "stdout",
          "text": [
            "60880.691999999995 97488.552 143225.1\n"
          ]
        }
      ]
    },
    {
      "cell_type": "markdown",
      "source": [
        "**Result** : Looks like the interquartile range is between 60,881 and 143,225 dollars! Now let's use these variables to add a categorical salary column into the DataFrame!"
      ],
      "metadata": {
        "id": "RpBgZGT8t6mf"
      }
    },
    {
      "cell_type": "markdown",
      "source": [
        "## Exercise - **Categorizing salaries**\n",
        "\n",
        "Now it's time to make a new category! You'll use the variables `twenty_fifth`, `salaries_median`, and `seventy_fifth`, that you created in the previous exercise, to split salaries into different labels.\n",
        "\n",
        "The result will be a new column called `\"salary_level\"`, which you'll incorporate into a visualization to analyze survey respondents' salary and at companies of different sizes."
      ],
      "metadata": {
        "id": "v3vOdj1Zt-gZ"
      }
    },
    {
      "cell_type": "markdown",
      "source": [
        "**Instructions 4/4**\n",
        "\n",
        "* Create `salary_labels`, a list containing `\"entry\"`, `\"mid\"`, `\"senior\"`, and `\"exec\"`.\n",
        "* Finish `salary_ranges`, adding the 25th percentile, median, 75th percentile, and largest value from `\"Salary_USD\"`.\n",
        "* Split `\"Salary_USD\"` based on the labels and ranges you've created.\n",
        "* Use `sns.countplot()` to visualize the count of `\"Company_Size\"`, factoring salary level labels.\n",
        "\n",
        "\n"
      ],
      "metadata": {
        "id": "B2OM4EPbuLYM"
      }
    },
    {
      "cell_type": "code",
      "source": [
        "# Create salary labels\n",
        "salary_labels = [\"entry\", \"mid\", \"senior\", \"exec\"]"
      ],
      "metadata": {
        "id": "pA1Zg-OLs2mF"
      },
      "execution_count": 18,
      "outputs": []
    },
    {
      "cell_type": "code",
      "source": [
        "# Create the salary ranges list\n",
        "salary_ranges = [0, twenty_fifth, salaries_median, seventy_fifth, salaries[\"Salary_USD\"].max()]"
      ],
      "metadata": {
        "id": "zDI0VPaTv75b"
      },
      "execution_count": 19,
      "outputs": []
    },
    {
      "cell_type": "code",
      "source": [
        "# Create salary_level\n",
        "salaries[\"salary_level\"] = pd.cut(salaries[\"Salary_USD\"],\n",
        "                                  bins=salary_ranges,\n",
        "                                  labels=salary_labels)"
      ],
      "metadata": {
        "id": "mSnp3Op4wVOP"
      },
      "execution_count": 20,
      "outputs": []
    },
    {
      "cell_type": "code",
      "source": [
        "# Plot the count of salary levels at companies of different sizes\n",
        "sns.countplot(data=salaries, x=\"Company_Size\", hue=\"salary_level\")\n",
        "plt.show()"
      ],
      "metadata": {
        "colab": {
          "base_uri": "https://localhost:8080/",
          "height": 450
        },
        "id": "sAri0DGAwcy9",
        "outputId": "f53cd890-c4f9-4b38-8fa4-42e81e8c7be9"
      },
      "execution_count": 21,
      "outputs": [
        {
          "output_type": "display_data",
          "data": {
            "text/plain": [
              "<Figure size 640x480 with 1 Axes>"
            ],
            "image/png": "[encoded data removed]"
          },
          "metadata": {}
        }
      ]
    },
    {
      "cell_type": "markdown",
      "source": [
        "**Result** :Nice work! By using `pd.cut()` to split out numeric data into categories, you can see that a large proportion of workers at small companies get paid \"entry\" level salaries, while more staff at medium-sized companies are rewarded with \"senior\" level salary. Now let's look at generating hypotheses as you reach the end of the EDA phase!"
      ],
      "metadata": {
        "id": "S3V7IXHZww2Z"
      }
    },
    {
      "cell_type": "markdown",
      "source": [
        "# **Generating hypotheses**\n"
      ],
      "metadata": {
        "id": "zMHr2-4Uw3D6"
      }
    },
    {
      "cell_type": "markdown",
      "source": [
        "## Exercise - **Comparing salaries**\n",
        "\n",
        "Exploratory data analysis is a crucial step in generating hypotheses!\n",
        "\n",
        "You've had an idea you'd like to explore—do data professionals get paid more in the USA than they do in Great Britain?\n",
        "\n",
        "You'll need to subset the data by `\"Employee_Location\"` and produce a plot displaying the average salary between the two groups.\n",
        "\n"
      ],
      "metadata": {
        "id": "tisVOW6u3pOQ"
      }
    },
    {
      "cell_type": "code",
      "source": [
        "# Filter for employees in the US or GB\n",
        "usa_and_gb = salaries[salaries[\"Employee_Location\"].isin([\"US\", \"GB\"])]\n",
        "\n",
        "# Create a barplot of salaries by location\n",
        "sns.barplot(data=usa_and_gb, x=\"Employee_Location\", y=\"Salary_USD\")\n",
        "plt.show()"
      ],
      "metadata": {
        "colab": {
          "base_uri": "https://localhost:8080/",
          "height": 450
        },
        "id": "y9cUT578wxv6",
        "outputId": "1898441a-4f6b-4978-97c2-1d86f9df893b"
      },
      "execution_count": 24,
      "outputs": [
        {
          "output_type": "display_data",
          "data": {
            "text/plain": [
              "<Figure size 640x480 with 1 Axes>"
            ],
            "image/png": "[encoded data removed]"
          },
          "metadata": {}
        }
      ]
    },
    {
      "cell_type": "markdown",
      "source": [
        "**Result** : Nicely done! By subsetting the data you were able to directly compare salaries between the USA and Great Britain. The visualization suggests you've generated a hypothesis that is worth formally investigating to determine whether a real difference exists or not!"
      ],
      "metadata": {
        "id": "8_AcHCgy5Q9S"
      }
    },
    {
      "cell_type": "markdown",
      "source": [
        "## Exercise - **Choosing a hypothesis**\n",
        "\n",
        "You've seen how visualizations can be used to generate hypotheses, making them a crucial part of exploratory data analysis!\n",
        "\n",
        "In this exercise, you'll generate a bar plot to inspect how salaries differ based on company size and employment status. For reference, there are four values:\n",
        "\n",
        "| Value | Meaning     |\n",
        "|-------|-------------|\n",
        "| CT    | Contractor  |\n",
        "| FL    | Freelance   |\n",
        "| PT    | Part-time   |\n",
        "| FT    | Full-time   |\n"
      ],
      "metadata": {
        "id": "qr4XmQaI5Vdk"
      }
    },
    {
      "cell_type": "markdown",
      "source": [
        "**Instructions** 2/2\n",
        "\n",
        "* Produce a barplot comparing `\"Salary_USD\"` by `\"Company_Size\"`, factoring `\"Employment_Status\"`."
      ],
      "metadata": {
        "id": "n1c_wfqm5-4O"
      }
    },
    {
      "cell_type": "code",
      "source": [
        "# Create a bar plot of salary versus company size, factoring in employment status\n",
        "sns.barplot(data=salaries, x=\"Company_Size\", y=\"Salary_USD\", hue=\"Employment_Status\")\n",
        "plt.show()"
      ],
      "metadata": {
        "colab": {
          "base_uri": "https://localhost:8080/",
          "height": 450
        },
        "id": "JimUW3FM5TJa",
        "outputId": "387953f9-bdfe-40b0-bd4a-8e029b96c55b"
      },
      "execution_count": 25,
      "outputs": [
        {
          "output_type": "display_data",
          "data": {
            "text/plain": [
              "<Figure size 640x480 with 1 Axes>"
            ],
            "image/png": "[encoded data removed]"
          },
          "metadata": {}
        }
      ]
    },
    {
      "cell_type": "markdown",
      "source": [
        "**Question**\n",
        "* What is a reasonable hypothesis to generate based on this plot?\n",
        "\n",
        "**Possible answers**\n",
        "\n",
        "\n",
        "> On average, small companies pay part-time employees less than large companies.\n",
        "\n",
        "> Freelancers earn more at medium-sized companies compared to small or large companies.\n",
        "\n",
        "> On average, large companies pay contractors more than medium-sized companies. ✅\n",
        "\n",
        "> No hypotheses can be generated from this plot."
      ],
      "metadata": {
        "id": "ZUeNrxCw6Xqj"
      }
    },
    {
      "cell_type": "markdown",
      "source": [
        "**Result** : Excellent! Contractors appear to be paid more by large companies on average based on the data, so this is a reasonable hypothesis! Let's recap what you've learned in the course!"
      ],
      "metadata": {
        "id": "TnBGvbXb68qk"
      }
    }
  ]
}