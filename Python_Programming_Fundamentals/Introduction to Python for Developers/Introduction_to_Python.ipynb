{
  "nbformat": 4,
  "nbformat_minor": 0,
  "metadata": {
    "colab": {
      "provenance": [],
      "authorship_tag": "ABX9TyNU7WFbLSLMlLnqb5ScqRYS",
      "include_colab_link": true
    },
    "kernelspec": {
      "name": "python3",
      "display_name": "Python 3"
    },
    "language_info": {
      "name": "python"
    }
  },
  "cells": [
    {
      "cell_type": "markdown",
      "metadata": {
        "id": "view-in-github",
        "colab_type": "text"
      },
      "source": [
        "<a href=\"https://colab.research.google.com/github/Marc86316/DataCamp/blob/main/Python_Programming_Fundamentals/Introduction%20to%20Python%20for%20Developers/Introduction_to_Python.ipynb\" target=\"_parent\"><img src=\"https://colab.research.google.com/assets/colab-badge.svg\" alt=\"Open In Colab\"/></a>"
      ]
    },
    {
      "cell_type": "markdown",
      "source": [
        "# **Introduction to Python for Developers**\n"
      ],
      "metadata": {
        "id": "yDwXlkzlXHnO"
      }
    },
    {
      "cell_type": "markdown",
      "source": [
        "**Description**\n",
        "\n",
        "Are you eager to dive into the world of programming but don't know where to start? This course is for you, designed specifically for beginners with zero prior experience in programming. Python, is a versatile and powerful language, perfect for software development!\n",
        "\n",
        "\n",
        "This course introduces you to key concepts, from creating code comments and performing calculations to discovering Python's built-in data types including floats, strings, integers, and boolean values! You'll learn how to store information in variables using a variety of data structures such as lists, dictionaries, sets, and tuples.\n",
        "\n",
        "\n",
        "You'll progress into comparison operators, using them to develop a customized workflow to conditionally execute code depending on whether conditions are met. The course wraps up by introducing for and while loops, which are essential for iterating over data and executing tasks!"
      ],
      "metadata": {
        "id": "SZrsSy4WXVKM"
      }
    },
    {
      "cell_type": "markdown",
      "source": [
        "# Introduction to Python\n",
        "\n",
        "Discover the wonders of Python - why it is popular and how to use it. No prior knowledge required!"
      ],
      "metadata": {
        "id": "LqIovT-8XbUj"
      }
    },
    {
      "cell_type": "code",
      "execution_count": null,
      "metadata": {
        "id": "MvlZCx2OW_vg"
      },
      "outputs": [],
      "source": []
    }
  ]
}